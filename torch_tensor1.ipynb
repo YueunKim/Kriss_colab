{
  "nbformat": 4,
  "nbformat_minor": 0,
  "metadata": {
    "colab": {
      "name": "torch_tensor1.ipynb",
      "provenance": [],
      "include_colab_link": true
    },
    "kernelspec": {
      "name": "python3",
      "display_name": "Python 3"
    }
  },
  "cells": [
    {
      "cell_type": "markdown",
      "metadata": {
        "id": "view-in-github",
        "colab_type": "text"
      },
      "source": [
        "<a href=\"https://colab.research.google.com/github/YueunKim/Kriss_colab/blob/master/torch_tensor1.ipynb\" target=\"_parent\"><img src=\"https://colab.research.google.com/assets/colab-badge.svg\" alt=\"Open In Colab\"/></a>"
      ]
    },
    {
      "cell_type": "code",
      "metadata": {
        "colab": {
          "base_uri": "https://localhost:8080/"
        },
        "id": "9OjN61JOZRkq",
        "outputId": "b8722768-27c4-4822-fb26-451bfd6bc9f3"
      },
      "source": [
        "import torch\n",
        "x = torch.empty(2, 5)\n",
        "x.size()"
      ],
      "execution_count": 1,
      "outputs": [
        {
          "output_type": "execute_result",
          "data": {
            "text/plain": [
              "torch.Size([2, 5])"
            ]
          },
          "metadata": {
            "tags": []
          },
          "execution_count": 1
        }
      ]
    },
    {
      "cell_type": "code",
      "metadata": {
        "colab": {
          "base_uri": "https://localhost:8080/"
        },
        "id": "hE1r-y9Rcy-a",
        "outputId": "57a1671c-1ec4-4490-db5c-299fecf54347"
      },
      "source": [
        "x.fill_(1.125)"
      ],
      "execution_count": 2,
      "outputs": [
        {
          "output_type": "execute_result",
          "data": {
            "text/plain": [
              "tensor([[1.1250, 1.1250, 1.1250, 1.1250, 1.1250],\n",
              "        [1.1250, 1.1250, 1.1250, 1.1250, 1.1250]])"
            ]
          },
          "metadata": {
            "tags": []
          },
          "execution_count": 2
        }
      ]
    },
    {
      "cell_type": "code",
      "metadata": {
        "colab": {
          "base_uri": "https://localhost:8080/"
        },
        "id": "8W3jwSlEc2Qo",
        "outputId": "c62d85ca-5548-404d-9eba-8803b7b9d139"
      },
      "source": [
        "x.mean()"
      ],
      "execution_count": 3,
      "outputs": [
        {
          "output_type": "execute_result",
          "data": {
            "text/plain": [
              "tensor(1.1250)"
            ]
          },
          "metadata": {
            "tags": []
          },
          "execution_count": 3
        }
      ]
    },
    {
      "cell_type": "code",
      "metadata": {
        "colab": {
          "base_uri": "https://localhost:8080/"
        },
        "id": "EaVWn-HEdDLX",
        "outputId": "187ee309-f75e-4ff9-84a4-5b2253e28dc1"
      },
      "source": [
        "x.std()"
      ],
      "execution_count": 4,
      "outputs": [
        {
          "output_type": "execute_result",
          "data": {
            "text/plain": [
              "tensor(0.)"
            ]
          },
          "metadata": {
            "tags": []
          },
          "execution_count": 4
        }
      ]
    },
    {
      "cell_type": "code",
      "metadata": {
        "colab": {
          "base_uri": "https://localhost:8080/"
        },
        "id": "Kcre0TtQdEeI",
        "outputId": "dacb8288-3998-49a8-a44b-6cf1edf6ce6b"
      },
      "source": [
        "x.sum()"
      ],
      "execution_count": 5,
      "outputs": [
        {
          "output_type": "execute_result",
          "data": {
            "text/plain": [
              "tensor(11.2500)"
            ]
          },
          "metadata": {
            "tags": []
          },
          "execution_count": 5
        }
      ]
    },
    {
      "cell_type": "code",
      "metadata": {
        "colab": {
          "base_uri": "https://localhost:8080/"
        },
        "id": "Snphof8pdF-t",
        "outputId": "1368e451-968f-485d-d336-de2284bf9032"
      },
      "source": [
        "x.sum().item()"
      ],
      "execution_count": 6,
      "outputs": [
        {
          "output_type": "execute_result",
          "data": {
            "text/plain": [
              "11.25"
            ]
          },
          "metadata": {
            "tags": []
          },
          "execution_count": 6
        }
      ]
    },
    {
      "cell_type": "code",
      "metadata": {
        "colab": {
          "base_uri": "https://localhost:8080/"
        },
        "id": "yGWjhWDZdIiD",
        "outputId": "90310592-4dba-43e6-e835-6d6d9e13d5d7"
      },
      "source": [
        "x = torch.tensor([[11., 12., 13.], [21., 22., 23.]])\n",
        "x[1, 2]"
      ],
      "execution_count": 7,
      "outputs": [
        {
          "output_type": "execute_result",
          "data": {
            "text/plain": [
              "tensor(23.)"
            ]
          },
          "metadata": {
            "tags": []
          },
          "execution_count": 7
        }
      ]
    },
    {
      "cell_type": "code",
      "metadata": {
        "colab": {
          "base_uri": "https://localhost:8080/"
        },
        "id": "7BpaM4TcdU6g",
        "outputId": "0d19a587-58ee-4ef0-f9ae-5b1252c2c103"
      },
      "source": [
        "x = torch.tensor([10., 20., 30.])\n",
        "y = torch.tensor([11., 21., 31.])\n",
        "x + y"
      ],
      "execution_count": 8,
      "outputs": [
        {
          "output_type": "execute_result",
          "data": {
            "text/plain": [
              "tensor([21., 41., 61.])"
            ]
          },
          "metadata": {
            "tags": []
          },
          "execution_count": 8
        }
      ]
    },
    {
      "cell_type": "code",
      "metadata": {
        "colab": {
          "base_uri": "https://localhost:8080/"
        },
        "id": "RgpOp-Uzdqz1",
        "outputId": "12e56c02-e9de-4f7d-aeea-4e2a16d8ae2d"
      },
      "source": [
        "x * y"
      ],
      "execution_count": 9,
      "outputs": [
        {
          "output_type": "execute_result",
          "data": {
            "text/plain": [
              "tensor([110., 420., 930.])"
            ]
          },
          "metadata": {
            "tags": []
          },
          "execution_count": 9
        }
      ]
    },
    {
      "cell_type": "code",
      "metadata": {
        "colab": {
          "base_uri": "https://localhost:8080/"
        },
        "id": "NzBgE3WYdtou",
        "outputId": "e71ed391-c846-4256-aabe-f458d0e51278"
      },
      "source": [
        "x ** 2"
      ],
      "execution_count": 10,
      "outputs": [
        {
          "output_type": "execute_result",
          "data": {
            "text/plain": [
              "tensor([100., 400., 900.])"
            ]
          },
          "metadata": {
            "tags": []
          },
          "execution_count": 10
        }
      ]
    },
    {
      "cell_type": "code",
      "metadata": {
        "id": "J_3wsF9Kdv16"
      },
      "source": [
        "m = torch.tensor([[0., 0., 3.], [0., 2., 0.],[1., 0., 0.]])"
      ],
      "execution_count": 11,
      "outputs": []
    },
    {
      "cell_type": "code",
      "metadata": {
        "colab": {
          "base_uri": "https://localhost:8080/"
        },
        "id": "jL0CKJCsd60p",
        "outputId": "1e66e05e-8c52-4f2b-fad6-c3bd51e6d559"
      },
      "source": [
        "m.mv(x) #torch.mv(m, x) matrix x vec computation"
      ],
      "execution_count": 12,
      "outputs": [
        {
          "output_type": "execute_result",
          "data": {
            "text/plain": [
              "tensor([90., 40., 10.])"
            ]
          },
          "metadata": {
            "tags": []
          },
          "execution_count": 12
        }
      ]
    },
    {
      "cell_type": "code",
      "metadata": {
        "colab": {
          "base_uri": "https://localhost:8080/"
        },
        "id": "3If2i0iyeElQ",
        "outputId": "144043f5-a535-46df-dc46-727e6bbfa3e8"
      },
      "source": [
        "torch.mv(m, x)"
      ],
      "execution_count": 13,
      "outputs": [
        {
          "output_type": "execute_result",
          "data": {
            "text/plain": [
              "tensor([90., 40., 10.])"
            ]
          },
          "metadata": {
            "tags": []
          },
          "execution_count": 13
        }
      ]
    },
    {
      "cell_type": "code",
      "metadata": {
        "colab": {
          "base_uri": "https://localhost:8080/"
        },
        "id": "KMKOefbKe32-",
        "outputId": "0537635c-b64c-4590-b337-bf0fb8ebcd2f"
      },
      "source": [
        "m@x"
      ],
      "execution_count": 14,
      "outputs": [
        {
          "output_type": "execute_result",
          "data": {
            "text/plain": [
              "tensor([90., 40., 10.])"
            ]
          },
          "metadata": {
            "tags": []
          },
          "execution_count": 14
        }
      ]
    },
    {
      "cell_type": "code",
      "metadata": {
        "colab": {
          "base_uri": "https://localhost:8080/"
        },
        "id": "ysdRtD0rfAO7",
        "outputId": "774fd7f3-fd2b-4778-fa89-c2a9424064cb"
      },
      "source": [
        "x = torch.empty(2, 4).random_(10)\n",
        "x"
      ],
      "execution_count": 15,
      "outputs": [
        {
          "output_type": "execute_result",
          "data": {
            "text/plain": [
              "tensor([[5., 0., 5., 4.],\n",
              "        [8., 9., 1., 6.]])"
            ]
          },
          "metadata": {
            "tags": []
          },
          "execution_count": 15
        }
      ]
    },
    {
      "cell_type": "code",
      "metadata": {
        "colab": {
          "base_uri": "https://localhost:8080/"
        },
        "id": "0aI6iWtOgM8L",
        "outputId": "a48a7543-3eda-441c-bbe2-5ef4fa2a8522"
      },
      "source": [
        "x[0]"
      ],
      "execution_count": 16,
      "outputs": [
        {
          "output_type": "execute_result",
          "data": {
            "text/plain": [
              "tensor([5., 0., 5., 4.])"
            ]
          },
          "metadata": {
            "tags": []
          },
          "execution_count": 16
        }
      ]
    },
    {
      "cell_type": "code",
      "metadata": {
        "colab": {
          "base_uri": "https://localhost:8080/"
        },
        "id": "boqeixosgPBB",
        "outputId": "705b1af4-f6d2-44e8-cffa-ee0380bb4928"
      },
      "source": [
        "x[0, :]"
      ],
      "execution_count": 17,
      "outputs": [
        {
          "output_type": "execute_result",
          "data": {
            "text/plain": [
              "tensor([5., 0., 5., 4.])"
            ]
          },
          "metadata": {
            "tags": []
          },
          "execution_count": 17
        }
      ]
    },
    {
      "cell_type": "code",
      "metadata": {
        "colab": {
          "base_uri": "https://localhost:8080/"
        },
        "id": "zhIqBptvgVuT",
        "outputId": "c5c3578b-0b2d-4568-9356-88acfc01777d"
      },
      "source": [
        "x[:, 0]"
      ],
      "execution_count": 18,
      "outputs": [
        {
          "output_type": "execute_result",
          "data": {
            "text/plain": [
              "tensor([5., 8.])"
            ]
          },
          "metadata": {
            "tags": []
          },
          "execution_count": 18
        }
      ]
    },
    {
      "cell_type": "code",
      "metadata": {
        "colab": {
          "base_uri": "https://localhost:8080/"
        },
        "id": "Amz3y48HgXs5",
        "outputId": "4e8b25de-df1b-449e-e575-464c1e0949bc"
      },
      "source": [
        "x[:, 1:3]"
      ],
      "execution_count": 19,
      "outputs": [
        {
          "output_type": "execute_result",
          "data": {
            "text/plain": [
              "tensor([[0., 5.],\n",
              "        [9., 1.]])"
            ]
          },
          "metadata": {
            "tags": []
          },
          "execution_count": 19
        }
      ]
    },
    {
      "cell_type": "code",
      "metadata": {
        "id": "V3uxzx4Qgfga"
      },
      "source": [
        "x[:, 1:3] = -1"
      ],
      "execution_count": 20,
      "outputs": []
    },
    {
      "cell_type": "code",
      "metadata": {
        "colab": {
          "base_uri": "https://localhost:8080/"
        },
        "id": "g0GB_MpEglu_",
        "outputId": "43a17401-eaf7-40f2-e9b7-e92f54101bb7"
      },
      "source": [
        "x"
      ],
      "execution_count": 21,
      "outputs": [
        {
          "output_type": "execute_result",
          "data": {
            "text/plain": [
              "tensor([[ 5., -1., -1.,  4.],\n",
              "        [ 8., -1., -1.,  6.]])"
            ]
          },
          "metadata": {
            "tags": []
          },
          "execution_count": 21
        }
      ]
    },
    {
      "cell_type": "code",
      "metadata": {
        "id": "hvj5jqxYgmuE"
      },
      "source": [
        "y= torch.empty(3).normal_()"
      ],
      "execution_count": 22,
      "outputs": []
    },
    {
      "cell_type": "code",
      "metadata": {
        "colab": {
          "base_uri": "https://localhost:8080/"
        },
        "id": "53VOjBAgrJ8J",
        "outputId": "3cfa73b9-3342-4627-d906-18b0ee8c2ecf"
      },
      "source": [
        "y"
      ],
      "execution_count": 23,
      "outputs": [
        {
          "output_type": "execute_result",
          "data": {
            "text/plain": [
              "tensor([-0.8573,  1.0642,  2.0571])"
            ]
          },
          "metadata": {
            "tags": []
          },
          "execution_count": 23
        }
      ]
    },
    {
      "cell_type": "code",
      "metadata": {
        "id": "KhBaxHWwrK2g",
        "colab": {
          "base_uri": "https://localhost:8080/"
        },
        "outputId": "4c0f2e21-c442-463e-af35-97b77e0e040e"
      },
      "source": [
        "m = torch.empty(3, 3).normal_(mean=0, std=1.0)\r\n",
        "m"
      ],
      "execution_count": 24,
      "outputs": [
        {
          "output_type": "execute_result",
          "data": {
            "text/plain": [
              "tensor([[-0.3891,  0.1026,  1.4472],\n",
              "        [-1.9104, -0.2225, -0.8143],\n",
              "        [-1.7848,  0.8519, -1.4503]])"
            ]
          },
          "metadata": {
            "tags": []
          },
          "execution_count": 24
        }
      ]
    },
    {
      "cell_type": "code",
      "metadata": {
        "id": "vMZFj9J8rPMY"
      },
      "source": [
        "q, _ = torch.lstsq(y, m)"
      ],
      "execution_count": 25,
      "outputs": []
    },
    {
      "cell_type": "code",
      "metadata": {
        "id": "p1fdPYgbBGhC"
      },
      "source": [
        "q, _ = torch.lstsq(y, m)"
      ],
      "execution_count": 26,
      "outputs": []
    },
    {
      "cell_type": "code",
      "metadata": {
        "colab": {
          "base_uri": "https://localhost:8080/"
        },
        "id": "sL_bXNvNrTAc",
        "outputId": "3139ff03-c063-44d6-c1fc-4806f7394ffc"
      },
      "source": [
        "torch.mm(m, q)"
      ],
      "execution_count": 27,
      "outputs": [
        {
          "output_type": "execute_result",
          "data": {
            "text/plain": [
              "tensor([[-0.8573],\n",
              "        [ 1.0642],\n",
              "        [ 2.0571]])"
            ]
          },
          "metadata": {
            "tags": []
          },
          "execution_count": 27
        }
      ]
    },
    {
      "cell_type": "code",
      "metadata": {
        "colab": {
          "base_uri": "https://localhost:8080/"
        },
        "id": "DBy8l4wnrgkQ",
        "outputId": "7303c171-cfe0-4ea5-b70a-6ebace6d0735"
      },
      "source": [
        "a = torch.randn(5, 3)\n",
        "a"
      ],
      "execution_count": 28,
      "outputs": [
        {
          "output_type": "execute_result",
          "data": {
            "text/plain": [
              "tensor([[ 1.3502, -1.1283,  0.8221],\n",
              "        [ 0.4627, -0.9424, -0.0813],\n",
              "        [-0.5206, -1.6937,  0.4280],\n",
              "        [ 1.7513, -1.4765,  0.3778],\n",
              "        [ 0.7987, -1.1725, -0.2113]])"
            ]
          },
          "metadata": {
            "tags": []
          },
          "execution_count": 28
        }
      ]
    },
    {
      "cell_type": "code",
      "metadata": {
        "colab": {
          "base_uri": "https://localhost:8080/"
        },
        "id": "Jd4WQOAWuOpD",
        "outputId": "2bbe846e-788f-4c9f-82f5-251b9cee8d6f"
      },
      "source": [
        "u, s, v = torch.svd(a)\n",
        "u"
      ],
      "execution_count": 29,
      "outputs": [
        {
          "output_type": "execute_result",
          "data": {
            "text/plain": [
              "tensor([[-0.5204, -0.2387, -0.6293],\n",
              "        [-0.2808,  0.1193,  0.3794],\n",
              "        [-0.3108,  0.9086, -0.2144],\n",
              "        [-0.6395, -0.3196,  0.0691],\n",
              "        [-0.3805,  0.0335,  0.6398]])"
            ]
          },
          "metadata": {
            "tags": []
          },
          "execution_count": 29
        }
      ]
    },
    {
      "cell_type": "code",
      "metadata": {
        "colab": {
          "base_uri": "https://localhost:8080/"
        },
        "id": "00mQkwQxuU9q",
        "outputId": "ea29c64d-e162-495b-f1eb-d9d783a2dff8"
      },
      "source": [
        "s"
      ],
      "execution_count": 30,
      "outputs": [
        {
          "output_type": "execute_result",
          "data": {
            "text/plain": [
              "tensor([3.5413, 1.5890, 0.7645])"
            ]
          },
          "metadata": {
            "tags": []
          },
          "execution_count": 30
        }
      ]
    },
    {
      "cell_type": "code",
      "metadata": {
        "colab": {
          "base_uri": "https://localhost:8080/"
        },
        "id": "x0GPTwLYuWAp",
        "outputId": "27ca6cb7-9b45-41bd-9e8b-b51af857f749"
      },
      "source": [
        "v"
      ],
      "execution_count": 31,
      "outputs": [
        {
          "output_type": "execute_result",
          "data": {
            "text/plain": [
              "tensor([[-0.5915, -0.8012,  0.0908],\n",
              "        [ 0.7818, -0.5974, -0.1787],\n",
              "        [-0.1974,  0.0347, -0.9797]])"
            ]
          },
          "metadata": {
            "tags": []
          },
          "execution_count": 31
        }
      ]
    },
    {
      "cell_type": "code",
      "metadata": {
        "id": "kjdkkS4YuWvn",
        "colab": {
          "base_uri": "https://localhost:8080/"
        },
        "outputId": "6f29baf6-0c63-47f8-9a4f-2cc3a5e2e0d2"
      },
      "source": [
        "a = torch.empty(3, 3).uniform_(0, 1)\r\n",
        "print(a)\r\n",
        "b = torch.bernoulli(a)\r\n",
        "print(b)"
      ],
      "execution_count": 32,
      "outputs": [
        {
          "output_type": "stream",
          "text": [
            "tensor([[0.8705, 0.6893, 0.3213],\n",
            "        [0.0416, 0.1726, 0.4503],\n",
            "        [0.5812, 0.8393, 0.9518]])\n",
            "tensor([[1., 1., 0.],\n",
            "        [0., 0., 0.],\n",
            "        [0., 1., 1.]])\n"
          ],
          "name": "stdout"
        }
      ]
    },
    {
      "cell_type": "code",
      "metadata": {
        "colab": {
          "base_uri": "https://localhost:8080/"
        },
        "id": "9zUxbjxmHONm",
        "outputId": "40e96a24-cdf3-491f-9389-3ae7bb9a84c9"
      },
      "source": [
        "c = torch.cos(a)\r\n",
        "c"
      ],
      "execution_count": 33,
      "outputs": [
        {
          "output_type": "execute_result",
          "data": {
            "text/plain": [
              "tensor([[0.6445, 0.7717, 0.9488],\n",
              "        [0.9991, 0.9851, 0.9003],\n",
              "        [0.8358, 0.6680, 0.5802]])"
            ]
          },
          "metadata": {
            "tags": []
          },
          "execution_count": 33
        }
      ]
    },
    {
      "cell_type": "code",
      "metadata": {
        "colab": {
          "base_uri": "https://localhost:8080/"
        },
        "id": "u3npozYiI04M",
        "outputId": "0a8f00ec-a076-4bda-b5db-b72cb2fe5c97"
      },
      "source": [
        "x = torch.tensor([[1, 3, 0], [2, 4, 6]])\r\n",
        "y = x.narrow(1, 1, 2)\r\n",
        "y"
      ],
      "execution_count": 34,
      "outputs": [
        {
          "output_type": "execute_result",
          "data": {
            "text/plain": [
              "tensor([[3, 0],\n",
              "        [4, 6]])"
            ]
          },
          "metadata": {
            "tags": []
          },
          "execution_count": 34
        }
      ]
    },
    {
      "cell_type": "code",
      "metadata": {
        "id": "4o3A9noDK3fL"
      },
      "source": [
        ""
      ],
      "execution_count": 34,
      "outputs": []
    }
  ]
}