{
  "nbformat": 4,
  "nbformat_minor": 0,
  "metadata": {
    "kernelspec": {
      "display_name": "Python 3",
      "language": "python",
      "name": "python3"
    },
    "language_info": {
      "codemirror_mode": {
        "name": "ipython",
        "version": 3
      },
      "file_extension": ".py",
      "mimetype": "text/x-python",
      "name": "python",
      "nbconvert_exporter": "python",
      "pygments_lexer": "ipython3",
      "version": "3.7.9"
    },
    "colab": {
      "name": "6. Optimization .ipynb",
      "provenance": [],
      "include_colab_link": true
    },
    "accelerator": "GPU"
  },
  "cells": [
    {
      "cell_type": "markdown",
      "metadata": {
        "id": "view-in-github",
        "colab_type": "text"
      },
      "source": [
        "<a href=\"https://colab.research.google.com/github/YueunKim/Kriss_colab/blob/master/6_Optimization_.ipynb\" target=\"_parent\"><img src=\"https://colab.research.google.com/assets/colab-badge.svg\" alt=\"Open In Colab\"/></a>"
      ]
    },
    {
      "cell_type": "code",
      "metadata": {
        "id": "DQjNPQiMKTbL",
        "colab": {
          "base_uri": "https://localhost:8080/"
        },
        "outputId": "09588cfe-984f-4ea1-a781-c55ef7c4c8bb"
      },
      "source": [
        "import torch\n",
        "\n",
        "f = torch.tensor([[-1., -3., 4.], [-3., 3., -1.]])\n",
        "target = torch.tensor([0, 1])\n",
        "criterion = torch.nn.CrossEntropyLoss()\n",
        "criterion(f, target)"
      ],
      "execution_count": 1,
      "outputs": [
        {
          "output_type": "execute_result",
          "data": {
            "text/plain": [
              "tensor(2.5141)"
            ]
          },
          "metadata": {
            "tags": []
          },
          "execution_count": 1
        }
      ]
    },
    {
      "cell_type": "code",
      "metadata": {
        "id": "ENnDs9cwKTbO",
        "colab": {
          "base_uri": "https://localhost:8080/"
        },
        "outputId": "d6dbca3b-d05a-4df0-ca63-7b6ffda3dff6"
      },
      "source": [
        "f = torch.tensor([[-1., -3., 4.], [-3., 3., -1.]])\n",
        "target = torch.tensor([0, 1])\n",
        "model = torch.nn.LogSoftmax(dim=1)\n",
        "criterion = torch.nn.NLLLoss()\n",
        "criterion(model(f), target)"
      ],
      "execution_count": 2,
      "outputs": [
        {
          "output_type": "execute_result",
          "data": {
            "text/plain": [
              "tensor(2.5141)"
            ]
          },
          "metadata": {
            "tags": []
          },
          "execution_count": 2
        }
      ]
    },
    {
      "cell_type": "code",
      "metadata": {
        "id": "HwwhP552KTbP",
        "colab": {
          "base_uri": "https://localhost:8080/"
        },
        "outputId": "90f126e0-e997-4e63-e805-b2d9ce032d69"
      },
      "source": [
        "y = torch.tensor([[-10., -10., 10., -5.],\n",
        "                 [3., 0., 0., 0.,],\n",
        "                 [1., 2., 3., 4.]])\n",
        "f = torch.nn.Softmax(1)\n",
        "f(y)"
      ],
      "execution_count": 3,
      "outputs": [
        {
          "output_type": "execute_result",
          "data": {
            "text/plain": [
              "tensor([[2.0612e-09, 2.0612e-09, 1.0000e+00, 3.0590e-07],\n",
              "        [8.7005e-01, 4.3317e-02, 4.3317e-02, 4.3317e-02],\n",
              "        [3.2059e-02, 8.7144e-02, 2.3688e-01, 6.4391e-01]])"
            ]
          },
          "metadata": {
            "tags": []
          },
          "execution_count": 3
        }
      ]
    },
    {
      "cell_type": "code",
      "metadata": {
        "id": "ioTsBL1VKTbP",
        "colab": {
          "base_uri": "https://localhost:8080/",
          "height": 251
        },
        "outputId": "c791af8f-bb76-40dd-e0fb-d1e1000c9e08"
      },
      "source": [
        "for e in range(np_epochs):\n",
        "    output = model(train_input)\n",
        "    loss = criterion(ouput, train_target)\n",
        "    \n",
        "    model.zero_grad()\n",
        "    loss.backward()\n",
        "    with torch.no_grad():\n",
        "        for p in model.parameters():\n",
        "            p -= eta * p.grad"
      ],
      "execution_count": 4,
      "outputs": [
        {
          "output_type": "error",
          "ename": "NameError",
          "evalue": "ignored",
          "traceback": [
            "\u001b[0;31m---------------------------------------------------------------------------\u001b[0m",
            "\u001b[0;31mNameError\u001b[0m                                 Traceback (most recent call last)",
            "\u001b[0;32m<ipython-input-4-f521e044db0a>\u001b[0m in \u001b[0;36m<module>\u001b[0;34m()\u001b[0m\n\u001b[0;32m----> 1\u001b[0;31m \u001b[0;32mfor\u001b[0m \u001b[0me\u001b[0m \u001b[0;32min\u001b[0m \u001b[0mrange\u001b[0m\u001b[0;34m(\u001b[0m\u001b[0mnp_epochs\u001b[0m\u001b[0;34m)\u001b[0m\u001b[0;34m:\u001b[0m\u001b[0;34m\u001b[0m\u001b[0;34m\u001b[0m\u001b[0m\n\u001b[0m\u001b[1;32m      2\u001b[0m     \u001b[0moutput\u001b[0m \u001b[0;34m=\u001b[0m \u001b[0mmodel\u001b[0m\u001b[0;34m(\u001b[0m\u001b[0mtrain_input\u001b[0m\u001b[0;34m)\u001b[0m\u001b[0;34m\u001b[0m\u001b[0;34m\u001b[0m\u001b[0m\n\u001b[1;32m      3\u001b[0m     \u001b[0mloss\u001b[0m \u001b[0;34m=\u001b[0m \u001b[0mcriterion\u001b[0m\u001b[0;34m(\u001b[0m\u001b[0mouput\u001b[0m\u001b[0;34m,\u001b[0m \u001b[0mtrain_target\u001b[0m\u001b[0;34m)\u001b[0m\u001b[0;34m\u001b[0m\u001b[0;34m\u001b[0m\u001b[0m\n\u001b[1;32m      4\u001b[0m \u001b[0;34m\u001b[0m\u001b[0m\n\u001b[1;32m      5\u001b[0m     \u001b[0mmodel\u001b[0m\u001b[0;34m.\u001b[0m\u001b[0mzero_grad\u001b[0m\u001b[0;34m(\u001b[0m\u001b[0;34m)\u001b[0m\u001b[0;34m\u001b[0m\u001b[0;34m\u001b[0m\u001b[0m\n",
            "\u001b[0;31mNameError\u001b[0m: name 'np_epochs' is not defined"
          ]
        }
      ]
    },
    {
      "cell_type": "code",
      "metadata": {
        "id": "Uz8-elQTKTbP",
        "colab": {
          "base_uri": "https://localhost:8080/",
          "height": 251
        },
        "outputId": "c4a8cd8e-4c77-4ae5-c25b-a130ad85de43"
      },
      "source": [
        "for e in range(np_epochs):\n",
        "    output = model(train_input)\n",
        "    loss = criterion(ouput, train_target)\n",
        "    \n",
        "    model.zero_grad()\n",
        "    loss.backward()\n",
        "    with torch.no_grad():\n",
        "        for p in model.parameters():\n",
        "            p -= eta * p.grad"
      ],
      "execution_count": 5,
      "outputs": [
        {
          "output_type": "error",
          "ename": "NameError",
          "evalue": "ignored",
          "traceback": [
            "\u001b[0;31m---------------------------------------------------------------------------\u001b[0m",
            "\u001b[0;31mNameError\u001b[0m                                 Traceback (most recent call last)",
            "\u001b[0;32m<ipython-input-5-f521e044db0a>\u001b[0m in \u001b[0;36m<module>\u001b[0;34m()\u001b[0m\n\u001b[0;32m----> 1\u001b[0;31m \u001b[0;32mfor\u001b[0m \u001b[0me\u001b[0m \u001b[0;32min\u001b[0m \u001b[0mrange\u001b[0m\u001b[0;34m(\u001b[0m\u001b[0mnp_epochs\u001b[0m\u001b[0;34m)\u001b[0m\u001b[0;34m:\u001b[0m\u001b[0;34m\u001b[0m\u001b[0;34m\u001b[0m\u001b[0m\n\u001b[0m\u001b[1;32m      2\u001b[0m     \u001b[0moutput\u001b[0m \u001b[0;34m=\u001b[0m \u001b[0mmodel\u001b[0m\u001b[0;34m(\u001b[0m\u001b[0mtrain_input\u001b[0m\u001b[0;34m)\u001b[0m\u001b[0;34m\u001b[0m\u001b[0;34m\u001b[0m\u001b[0m\n\u001b[1;32m      3\u001b[0m     \u001b[0mloss\u001b[0m \u001b[0;34m=\u001b[0m \u001b[0mcriterion\u001b[0m\u001b[0;34m(\u001b[0m\u001b[0mouput\u001b[0m\u001b[0;34m,\u001b[0m \u001b[0mtrain_target\u001b[0m\u001b[0;34m)\u001b[0m\u001b[0;34m\u001b[0m\u001b[0;34m\u001b[0m\u001b[0m\n\u001b[1;32m      4\u001b[0m \u001b[0;34m\u001b[0m\u001b[0m\n\u001b[1;32m      5\u001b[0m     \u001b[0mmodel\u001b[0m\u001b[0;34m.\u001b[0m\u001b[0mzero_grad\u001b[0m\u001b[0;34m(\u001b[0m\u001b[0;34m)\u001b[0m\u001b[0;34m\u001b[0m\u001b[0;34m\u001b[0m\u001b[0m\n",
            "\u001b[0;31mNameError\u001b[0m: name 'np_epochs' is not defined"
          ]
        }
      ]
    },
    {
      "cell_type": "code",
      "metadata": {
        "id": "cSvdShebKTbP"
      },
      "source": [
        "import torch.nn as nn\n",
        "\n",
        "class Net(nn.Module):\n",
        "    def __init__(self):\n",
        "        super(Net, self).__init__()\n",
        "        self.conv1 = nn.Conv2d(1, 32, kernel_size = 5)\n",
        "        self.conv2 = nn.Conv2d(32, 64, kernel_size = 5)\n",
        "        self.fc1 = nn.Linear(256, 200)\n",
        "        self.fc2 = nn.Linear(200, 10)\n",
        "        \n",
        "    def forward(self, x):\n",
        "        x = F.relu(F.max_pool2d(self.conv1(x), kernel_size = 3))\n",
        "        x = F.relu(F.max_pool2d(self.conv2(x), kernel_size = 2))\n",
        "        x = x.view(x.size(0), -1)\n",
        "        x = F.relu(self.fc1(x))\n",
        "        x = self.fc2(x)\n",
        "        return x"
      ],
      "execution_count": 6,
      "outputs": []
    },
    {
      "cell_type": "code",
      "metadata": {
        "id": "I3gwIPfPKTbP"
      },
      "source": [
        "import torch\n",
        "import torchvision\n",
        "import torch.nn.functional as F\n",
        "from google.colab import drive\n",
        "\n",
        "drive.mount('/content/gdrive')\n",
        "train_set = torchvision.datasets.MNIST('/content/gdrive/MyDrive/pytorch/dataset/mnist/', train = True, download = True)\n",
        "train_input = train_set.data.view(-1, 1, 28, 28).float()\n",
        "train_target = train_set.train_labels\n",
        "\n",
        "lr, nb_epochs, batch_size = 1e-1, 10, 100\n",
        "\n",
        "model = Net()\n",
        "\n",
        "optimizer = torch.optim.SGD(model.parameters(), lr = lr)\n",
        "criterion = nn.CrossEntropyLoss()\n",
        "\n",
        "device = 'cuda'\n",
        "model.to(device)\n",
        "criterion.to(device)\n",
        "train_input, train_target = train_input.to(device), train_target.to(device)\n",
        "mu, std = train_input.mean(), train_input.std()\n",
        "train_input.sub_(mu).div_(std)\n",
        "\n",
        "for e in range(nb_epochs):\n",
        "    for input, target in zip(train_input.split(batch_size),train_target.split(batch_size)):\n",
        "        output = model(input)\n",
        "        loss = criterion(output, target)\n",
        "        optimizer.zero_grad()\n",
        "        loss.backward()\n",
        "        optimizer.step()"
      ],
      "execution_count": null,
      "outputs": []
    },
    {
      "cell_type": "code",
      "metadata": {
        "id": "632MaG84KTbP"
      },
      "source": [
        "from torch.autograd import Function \n",
        "\n",
        "class KillHead(Function):\n",
        "    @staticmethod\n",
        "    def forward(ctx, input, n):\n",
        "        ctx.n = n\n",
        "        result = input.clone()\n",
        "        result[:, 0:ctx.n] = 0\n",
        "        return result\n",
        "\n",
        "    @staticmethod\n",
        "    def backward(ctx, grad_output):\n",
        "        result = grad_output.clone()\n",
        "        result[:, 0:ctx.n] = 0\n",
        "        return result, None\n",
        "    \n",
        "killhead = KillHead.apply"
      ],
      "execution_count": null,
      "outputs": []
    },
    {
      "cell_type": "code",
      "metadata": {
        "id": "-MFWiZtMKTbP"
      },
      "source": [
        "y = torch.empty(3, 8).normal_()\n",
        "x = torch.empty(y.size()).normal_().requires_grad_()\n",
        "criterion, eta = nn.MSELoss(), 1e-0\n",
        "\n",
        "for k in range(5):\n",
        "    r = killhead(x, 2)\n",
        "    loss = criterion(r, y)\n",
        "    if k > 0: \n",
        "        x.grad.zero_()\n",
        "    loss.backward()\n",
        "    print(k, loss.item())\n",
        "    with torch.no_grad():\n",
        "        x.sub_(eta * x.grad)\n",
        "        "
      ],
      "execution_count": null,
      "outputs": []
    },
    {
      "cell_type": "code",
      "metadata": {
        "id": "QXBXEhsaKTbP"
      },
      "source": [
        "from torch.autograd import gradcheck\n",
        "\n",
        "x = torch.empty(10, 20, dtype = torch.float64).uniform_(-1, 1).requires_grad_()\n",
        "\n",
        "input = (x, 4)\n",
        "\n",
        "if gradcheck(killhead, input, eps = 1e-6, atol = 1e-4):\n",
        "    print('All good captain.')\n",
        "else:\n",
        "    print('Ouch')"
      ],
      "execution_count": null,
      "outputs": []
    },
    {
      "cell_type": "code",
      "metadata": {
        "id": "gZPhb5p7KTbQ"
      },
      "source": [
        "import torch.nn as nn\n",
        "\n",
        "def create_model(with_batchnorm, nc = 32, depth = 16):\n",
        "  modules = []\n",
        "  modules.append(nn.Linear(2, nc))\n",
        "  if with_batchnorm: \n",
        "    modules.append(nn.BatchNorm1d(nc))\n",
        "  modules.append(nn.ReLU())\n",
        "\n",
        "  for d in range(depth):\n",
        "    modules.append(nn.Linear(nc, nc))\n",
        "    if with_batchnorm: \n",
        "      modules.append(nn.BatchNorm1d(nc))\n",
        "    modules.append(nn.ReLU())\n",
        "    \n",
        "  modules.append(nn.Linear(nc, 2))\n",
        "  \n",
        "  return nn.Sequential(*modules)\n"
      ],
      "execution_count": null,
      "outputs": []
    },
    {
      "cell_type": "code",
      "metadata": {
        "id": "otJS6TjcOUnR"
      },
      "source": [
        "with torch.no_grad():\n",
        "  for p in model.parameters(): \n",
        "    p.normal_(0, std)"
      ],
      "execution_count": null,
      "outputs": []
    },
    {
      "cell_type": "code",
      "metadata": {
        "id": "Pcro41w1OlP_"
      },
      "source": [
        "import torch\n",
        "\n",
        "u = torch.tensor([1, 2, 3])\n",
        "u.device"
      ],
      "execution_count": null,
      "outputs": []
    },
    {
      "cell_type": "code",
      "metadata": {
        "id": "eIWqtmZ-5Up0"
      },
      "source": [
        "v = u.to('cuda') #copy of u\n",
        "v"
      ],
      "execution_count": null,
      "outputs": []
    },
    {
      "cell_type": "code",
      "metadata": {
        "id": "jIo3onK55cGq"
      },
      "source": [
        "v[0] = 5\n",
        "u"
      ],
      "execution_count": null,
      "outputs": []
    },
    {
      "cell_type": "code",
      "metadata": {
        "id": "1VnkCMI35jpS"
      },
      "source": [
        "w = u.to('cpu') #this is u itself\n",
        "w"
      ],
      "execution_count": null,
      "outputs": []
    },
    {
      "cell_type": "code",
      "metadata": {
        "id": "cXms0Sy05v8C"
      },
      "source": [
        "w[0] = 5\n",
        "u"
      ],
      "execution_count": null,
      "outputs": []
    },
    {
      "cell_type": "code",
      "metadata": {
        "id": "yMUh6DyB5yE6"
      },
      "source": [
        "m = torch.empty(10, 10).normal_()\n",
        "m.device"
      ],
      "execution_count": null,
      "outputs": []
    },
    {
      "cell_type": "code",
      "metadata": {
        "id": "HJ5TT2-g6Jpi"
      },
      "source": [
        "x = torch.empty(10, 100).normal_()\n",
        "q = m@x\n",
        "q.device"
      ],
      "execution_count": null,
      "outputs": []
    },
    {
      "cell_type": "code",
      "metadata": {
        "id": "zL-wzmpP6SI5"
      },
      "source": [
        "m = m.to('cuda')\n",
        "x = x.to('cuda')\n",
        "q = m@x\n",
        "q.device"
      ],
      "execution_count": null,
      "outputs": []
    },
    {
      "cell_type": "code",
      "metadata": {
        "id": "EKy2ytfT6cY6"
      },
      "source": [
        "if torch.cuda.is_available():\n",
        "  device = torch.device('cuda')\n",
        "else:\n",
        "  device = torch.device('cpu')\n",
        "\n",
        "  model.to(device)\n",
        "criterion.to(device)\n",
        "train_input, train_target = train_input.to(device), train_target.to(device)\n",
        "test_input, test_target = test_input.to(device), test_target.to(device)\n"
      ],
      "execution_count": null,
      "outputs": []
    },
    {
      "cell_type": "code",
      "metadata": {
        "id": "6_Dtimuy8qrJ"
      },
      "source": [
        "class Dummy(nn.Module):\n",
        "  def __init__(self, m):\n",
        "    super(Dummy, self).__init__()\n",
        "    self.m = m\n",
        "\n",
        "  def forward(self, x):\n",
        "    print('Dummy.formard', x.size(), x.device)\n",
        "    return self.m(x)\n",
        "\n",
        "x = torch.empty(50, 10).normal_()\n",
        "model = Dummy(nn.Linear(10, 5))\n",
        "\n",
        "print('On CPU')\n",
        "y = model(x)\n",
        "\n",
        "x = x.cuda()\n",
        "model.cuda()\n",
        "\n",
        "print('On GPU w/o nn.DataParallel')\n",
        "y = model(x)\n",
        "\n",
        "print('On GPU w/ nn.DataParallel')\n",
        "parallel_model = nn.DataParallel(model)\n",
        "y = parallel_model(x)\n"
      ],
      "execution_count": null,
      "outputs": []
    },
    {
      "cell_type": "code",
      "metadata": {
        "id": "xbKQFPxgBLv4"
      },
      "source": [
        ""
      ],
      "execution_count": null,
      "outputs": []
    }
  ]
}