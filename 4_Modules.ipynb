{
  "nbformat": 4,
  "nbformat_minor": 0,
  "metadata": {
    "kernelspec": {
      "display_name": "Python 3",
      "language": "python",
      "name": "python3"
    },
    "language_info": {
      "codemirror_mode": {
        "name": "ipython",
        "version": 3
      },
      "file_extension": ".py",
      "mimetype": "text/x-python",
      "name": "python",
      "nbconvert_exporter": "python",
      "pygments_lexer": "ipython3",
      "version": "3.7.9"
    },
    "colab": {
      "name": "4. Modules.ipynb",
      "provenance": [],
      "collapsed_sections": [],
      "include_colab_link": true
    },
    "accelerator": "GPU",
    "widgets": {
      "application/vnd.jupyter.widget-state+json": {
        "ea3c603c4f8241a59587cdf8bfdeda86": {
          "model_module": "@jupyter-widgets/controls",
          "model_name": "HBoxModel",
          "state": {
            "_view_name": "HBoxView",
            "_dom_classes": [],
            "_model_name": "HBoxModel",
            "_view_module": "@jupyter-widgets/controls",
            "_model_module_version": "1.5.0",
            "_view_count": null,
            "_view_module_version": "1.5.0",
            "box_style": "",
            "layout": "IPY_MODEL_6a37b55fe4954dbaa5cff82a2ddcf2d2",
            "_model_module": "@jupyter-widgets/controls",
            "children": [
              "IPY_MODEL_fd476366c3fa417da890b080e8bef248",
              "IPY_MODEL_fb3bead2cac54f378af2f2474534577b"
            ]
          }
        },
        "6a37b55fe4954dbaa5cff82a2ddcf2d2": {
          "model_module": "@jupyter-widgets/base",
          "model_name": "LayoutModel",
          "state": {
            "_view_name": "LayoutView",
            "grid_template_rows": null,
            "right": null,
            "justify_content": null,
            "_view_module": "@jupyter-widgets/base",
            "overflow": null,
            "_model_module_version": "1.2.0",
            "_view_count": null,
            "flex_flow": null,
            "width": null,
            "min_width": null,
            "border": null,
            "align_items": null,
            "bottom": null,
            "_model_module": "@jupyter-widgets/base",
            "top": null,
            "grid_column": null,
            "overflow_y": null,
            "overflow_x": null,
            "grid_auto_flow": null,
            "grid_area": null,
            "grid_template_columns": null,
            "flex": null,
            "_model_name": "LayoutModel",
            "justify_items": null,
            "grid_row": null,
            "max_height": null,
            "align_content": null,
            "visibility": null,
            "align_self": null,
            "height": null,
            "min_height": null,
            "padding": null,
            "grid_auto_rows": null,
            "grid_gap": null,
            "max_width": null,
            "order": null,
            "_view_module_version": "1.2.0",
            "grid_template_areas": null,
            "object_position": null,
            "object_fit": null,
            "grid_auto_columns": null,
            "margin": null,
            "display": null,
            "left": null
          }
        },
        "fd476366c3fa417da890b080e8bef248": {
          "model_module": "@jupyter-widgets/controls",
          "model_name": "FloatProgressModel",
          "state": {
            "_view_name": "ProgressView",
            "style": "IPY_MODEL_baa06231aa52484da929af6ee0a02563",
            "_dom_classes": [],
            "description": "",
            "_model_name": "FloatProgressModel",
            "bar_style": "success",
            "max": 1,
            "_view_module": "@jupyter-widgets/controls",
            "_model_module_version": "1.5.0",
            "value": 1,
            "_view_count": null,
            "_view_module_version": "1.5.0",
            "orientation": "horizontal",
            "min": 0,
            "description_tooltip": null,
            "_model_module": "@jupyter-widgets/controls",
            "layout": "IPY_MODEL_bc296da19b334317b0707fd99d9c57df"
          }
        },
        "fb3bead2cac54f378af2f2474534577b": {
          "model_module": "@jupyter-widgets/controls",
          "model_name": "HTMLModel",
          "state": {
            "_view_name": "HTMLView",
            "style": "IPY_MODEL_38b81987a2eb4a5292c851ebe1361fd3",
            "_dom_classes": [],
            "description": "",
            "_model_name": "HTMLModel",
            "placeholder": "​",
            "_view_module": "@jupyter-widgets/controls",
            "_model_module_version": "1.5.0",
            "value": " 9920512/? [00:02&lt;00:00, 3329998.22it/s]",
            "_view_count": null,
            "_view_module_version": "1.5.0",
            "description_tooltip": null,
            "_model_module": "@jupyter-widgets/controls",
            "layout": "IPY_MODEL_84539a3f34f840388295e6d5fd257258"
          }
        },
        "baa06231aa52484da929af6ee0a02563": {
          "model_module": "@jupyter-widgets/controls",
          "model_name": "ProgressStyleModel",
          "state": {
            "_view_name": "StyleView",
            "_model_name": "ProgressStyleModel",
            "description_width": "initial",
            "_view_module": "@jupyter-widgets/base",
            "_model_module_version": "1.5.0",
            "_view_count": null,
            "_view_module_version": "1.2.0",
            "bar_color": null,
            "_model_module": "@jupyter-widgets/controls"
          }
        },
        "bc296da19b334317b0707fd99d9c57df": {
          "model_module": "@jupyter-widgets/base",
          "model_name": "LayoutModel",
          "state": {
            "_view_name": "LayoutView",
            "grid_template_rows": null,
            "right": null,
            "justify_content": null,
            "_view_module": "@jupyter-widgets/base",
            "overflow": null,
            "_model_module_version": "1.2.0",
            "_view_count": null,
            "flex_flow": null,
            "width": null,
            "min_width": null,
            "border": null,
            "align_items": null,
            "bottom": null,
            "_model_module": "@jupyter-widgets/base",
            "top": null,
            "grid_column": null,
            "overflow_y": null,
            "overflow_x": null,
            "grid_auto_flow": null,
            "grid_area": null,
            "grid_template_columns": null,
            "flex": null,
            "_model_name": "LayoutModel",
            "justify_items": null,
            "grid_row": null,
            "max_height": null,
            "align_content": null,
            "visibility": null,
            "align_self": null,
            "height": null,
            "min_height": null,
            "padding": null,
            "grid_auto_rows": null,
            "grid_gap": null,
            "max_width": null,
            "order": null,
            "_view_module_version": "1.2.0",
            "grid_template_areas": null,
            "object_position": null,
            "object_fit": null,
            "grid_auto_columns": null,
            "margin": null,
            "display": null,
            "left": null
          }
        },
        "38b81987a2eb4a5292c851ebe1361fd3": {
          "model_module": "@jupyter-widgets/controls",
          "model_name": "DescriptionStyleModel",
          "state": {
            "_view_name": "StyleView",
            "_model_name": "DescriptionStyleModel",
            "description_width": "",
            "_view_module": "@jupyter-widgets/base",
            "_model_module_version": "1.5.0",
            "_view_count": null,
            "_view_module_version": "1.2.0",
            "_model_module": "@jupyter-widgets/controls"
          }
        },
        "84539a3f34f840388295e6d5fd257258": {
          "model_module": "@jupyter-widgets/base",
          "model_name": "LayoutModel",
          "state": {
            "_view_name": "LayoutView",
            "grid_template_rows": null,
            "right": null,
            "justify_content": null,
            "_view_module": "@jupyter-widgets/base",
            "overflow": null,
            "_model_module_version": "1.2.0",
            "_view_count": null,
            "flex_flow": null,
            "width": null,
            "min_width": null,
            "border": null,
            "align_items": null,
            "bottom": null,
            "_model_module": "@jupyter-widgets/base",
            "top": null,
            "grid_column": null,
            "overflow_y": null,
            "overflow_x": null,
            "grid_auto_flow": null,
            "grid_area": null,
            "grid_template_columns": null,
            "flex": null,
            "_model_name": "LayoutModel",
            "justify_items": null,
            "grid_row": null,
            "max_height": null,
            "align_content": null,
            "visibility": null,
            "align_self": null,
            "height": null,
            "min_height": null,
            "padding": null,
            "grid_auto_rows": null,
            "grid_gap": null,
            "max_width": null,
            "order": null,
            "_view_module_version": "1.2.0",
            "grid_template_areas": null,
            "object_position": null,
            "object_fit": null,
            "grid_auto_columns": null,
            "margin": null,
            "display": null,
            "left": null
          }
        },
        "4f0bd6960f4e46f788d7f41901f920a1": {
          "model_module": "@jupyter-widgets/controls",
          "model_name": "HBoxModel",
          "state": {
            "_view_name": "HBoxView",
            "_dom_classes": [],
            "_model_name": "HBoxModel",
            "_view_module": "@jupyter-widgets/controls",
            "_model_module_version": "1.5.0",
            "_view_count": null,
            "_view_module_version": "1.5.0",
            "box_style": "",
            "layout": "IPY_MODEL_fd563959dbab497f90b260a5a882d954",
            "_model_module": "@jupyter-widgets/controls",
            "children": [
              "IPY_MODEL_90d7ba8948ec46a0b63309fae243937e",
              "IPY_MODEL_bfbf5014d6fd44a5a63da5a7112dd6f6"
            ]
          }
        },
        "fd563959dbab497f90b260a5a882d954": {
          "model_module": "@jupyter-widgets/base",
          "model_name": "LayoutModel",
          "state": {
            "_view_name": "LayoutView",
            "grid_template_rows": null,
            "right": null,
            "justify_content": null,
            "_view_module": "@jupyter-widgets/base",
            "overflow": null,
            "_model_module_version": "1.2.0",
            "_view_count": null,
            "flex_flow": null,
            "width": null,
            "min_width": null,
            "border": null,
            "align_items": null,
            "bottom": null,
            "_model_module": "@jupyter-widgets/base",
            "top": null,
            "grid_column": null,
            "overflow_y": null,
            "overflow_x": null,
            "grid_auto_flow": null,
            "grid_area": null,
            "grid_template_columns": null,
            "flex": null,
            "_model_name": "LayoutModel",
            "justify_items": null,
            "grid_row": null,
            "max_height": null,
            "align_content": null,
            "visibility": null,
            "align_self": null,
            "height": null,
            "min_height": null,
            "padding": null,
            "grid_auto_rows": null,
            "grid_gap": null,
            "max_width": null,
            "order": null,
            "_view_module_version": "1.2.0",
            "grid_template_areas": null,
            "object_position": null,
            "object_fit": null,
            "grid_auto_columns": null,
            "margin": null,
            "display": null,
            "left": null
          }
        },
        "90d7ba8948ec46a0b63309fae243937e": {
          "model_module": "@jupyter-widgets/controls",
          "model_name": "FloatProgressModel",
          "state": {
            "_view_name": "ProgressView",
            "style": "IPY_MODEL_b02ee9f068f746dbbc59aedb089d2dd8",
            "_dom_classes": [],
            "description": "",
            "_model_name": "FloatProgressModel",
            "bar_style": "success",
            "max": 1,
            "_view_module": "@jupyter-widgets/controls",
            "_model_module_version": "1.5.0",
            "value": 1,
            "_view_count": null,
            "_view_module_version": "1.5.0",
            "orientation": "horizontal",
            "min": 0,
            "description_tooltip": null,
            "_model_module": "@jupyter-widgets/controls",
            "layout": "IPY_MODEL_a40389f5fcff4db6819b64ce5f009858"
          }
        },
        "bfbf5014d6fd44a5a63da5a7112dd6f6": {
          "model_module": "@jupyter-widgets/controls",
          "model_name": "HTMLModel",
          "state": {
            "_view_name": "HTMLView",
            "style": "IPY_MODEL_b4813522f32f436fa38253722b21260e",
            "_dom_classes": [],
            "description": "",
            "_model_name": "HTMLModel",
            "placeholder": "​",
            "_view_module": "@jupyter-widgets/controls",
            "_model_module_version": "1.5.0",
            "value": " 32768/? [00:01&lt;00:00, 31702.37it/s]",
            "_view_count": null,
            "_view_module_version": "1.5.0",
            "description_tooltip": null,
            "_model_module": "@jupyter-widgets/controls",
            "layout": "IPY_MODEL_d965aa380eb04a26a3aa02da3dddb365"
          }
        },
        "b02ee9f068f746dbbc59aedb089d2dd8": {
          "model_module": "@jupyter-widgets/controls",
          "model_name": "ProgressStyleModel",
          "state": {
            "_view_name": "StyleView",
            "_model_name": "ProgressStyleModel",
            "description_width": "initial",
            "_view_module": "@jupyter-widgets/base",
            "_model_module_version": "1.5.0",
            "_view_count": null,
            "_view_module_version": "1.2.0",
            "bar_color": null,
            "_model_module": "@jupyter-widgets/controls"
          }
        },
        "a40389f5fcff4db6819b64ce5f009858": {
          "model_module": "@jupyter-widgets/base",
          "model_name": "LayoutModel",
          "state": {
            "_view_name": "LayoutView",
            "grid_template_rows": null,
            "right": null,
            "justify_content": null,
            "_view_module": "@jupyter-widgets/base",
            "overflow": null,
            "_model_module_version": "1.2.0",
            "_view_count": null,
            "flex_flow": null,
            "width": null,
            "min_width": null,
            "border": null,
            "align_items": null,
            "bottom": null,
            "_model_module": "@jupyter-widgets/base",
            "top": null,
            "grid_column": null,
            "overflow_y": null,
            "overflow_x": null,
            "grid_auto_flow": null,
            "grid_area": null,
            "grid_template_columns": null,
            "flex": null,
            "_model_name": "LayoutModel",
            "justify_items": null,
            "grid_row": null,
            "max_height": null,
            "align_content": null,
            "visibility": null,
            "align_self": null,
            "height": null,
            "min_height": null,
            "padding": null,
            "grid_auto_rows": null,
            "grid_gap": null,
            "max_width": null,
            "order": null,
            "_view_module_version": "1.2.0",
            "grid_template_areas": null,
            "object_position": null,
            "object_fit": null,
            "grid_auto_columns": null,
            "margin": null,
            "display": null,
            "left": null
          }
        },
        "b4813522f32f436fa38253722b21260e": {
          "model_module": "@jupyter-widgets/controls",
          "model_name": "DescriptionStyleModel",
          "state": {
            "_view_name": "StyleView",
            "_model_name": "DescriptionStyleModel",
            "description_width": "",
            "_view_module": "@jupyter-widgets/base",
            "_model_module_version": "1.5.0",
            "_view_count": null,
            "_view_module_version": "1.2.0",
            "_model_module": "@jupyter-widgets/controls"
          }
        },
        "d965aa380eb04a26a3aa02da3dddb365": {
          "model_module": "@jupyter-widgets/base",
          "model_name": "LayoutModel",
          "state": {
            "_view_name": "LayoutView",
            "grid_template_rows": null,
            "right": null,
            "justify_content": null,
            "_view_module": "@jupyter-widgets/base",
            "overflow": null,
            "_model_module_version": "1.2.0",
            "_view_count": null,
            "flex_flow": null,
            "width": null,
            "min_width": null,
            "border": null,
            "align_items": null,
            "bottom": null,
            "_model_module": "@jupyter-widgets/base",
            "top": null,
            "grid_column": null,
            "overflow_y": null,
            "overflow_x": null,
            "grid_auto_flow": null,
            "grid_area": null,
            "grid_template_columns": null,
            "flex": null,
            "_model_name": "LayoutModel",
            "justify_items": null,
            "grid_row": null,
            "max_height": null,
            "align_content": null,
            "visibility": null,
            "align_self": null,
            "height": null,
            "min_height": null,
            "padding": null,
            "grid_auto_rows": null,
            "grid_gap": null,
            "max_width": null,
            "order": null,
            "_view_module_version": "1.2.0",
            "grid_template_areas": null,
            "object_position": null,
            "object_fit": null,
            "grid_auto_columns": null,
            "margin": null,
            "display": null,
            "left": null
          }
        },
        "195c5c64151e4aa9acf828c132a2f230": {
          "model_module": "@jupyter-widgets/controls",
          "model_name": "HBoxModel",
          "state": {
            "_view_name": "HBoxView",
            "_dom_classes": [],
            "_model_name": "HBoxModel",
            "_view_module": "@jupyter-widgets/controls",
            "_model_module_version": "1.5.0",
            "_view_count": null,
            "_view_module_version": "1.5.0",
            "box_style": "",
            "layout": "IPY_MODEL_97bca26cc4644cfea3f7e103cdb5e7f8",
            "_model_module": "@jupyter-widgets/controls",
            "children": [
              "IPY_MODEL_45305724ac27410db7b4bddfda74f42c",
              "IPY_MODEL_7811c48dab7042679597a8e65ede652a"
            ]
          }
        },
        "97bca26cc4644cfea3f7e103cdb5e7f8": {
          "model_module": "@jupyter-widgets/base",
          "model_name": "LayoutModel",
          "state": {
            "_view_name": "LayoutView",
            "grid_template_rows": null,
            "right": null,
            "justify_content": null,
            "_view_module": "@jupyter-widgets/base",
            "overflow": null,
            "_model_module_version": "1.2.0",
            "_view_count": null,
            "flex_flow": null,
            "width": null,
            "min_width": null,
            "border": null,
            "align_items": null,
            "bottom": null,
            "_model_module": "@jupyter-widgets/base",
            "top": null,
            "grid_column": null,
            "overflow_y": null,
            "overflow_x": null,
            "grid_auto_flow": null,
            "grid_area": null,
            "grid_template_columns": null,
            "flex": null,
            "_model_name": "LayoutModel",
            "justify_items": null,
            "grid_row": null,
            "max_height": null,
            "align_content": null,
            "visibility": null,
            "align_self": null,
            "height": null,
            "min_height": null,
            "padding": null,
            "grid_auto_rows": null,
            "grid_gap": null,
            "max_width": null,
            "order": null,
            "_view_module_version": "1.2.0",
            "grid_template_areas": null,
            "object_position": null,
            "object_fit": null,
            "grid_auto_columns": null,
            "margin": null,
            "display": null,
            "left": null
          }
        },
        "45305724ac27410db7b4bddfda74f42c": {
          "model_module": "@jupyter-widgets/controls",
          "model_name": "FloatProgressModel",
          "state": {
            "_view_name": "ProgressView",
            "style": "IPY_MODEL_d8fed71b005744ee88d5860614584dcd",
            "_dom_classes": [],
            "description": "",
            "_model_name": "FloatProgressModel",
            "bar_style": "success",
            "max": 1,
            "_view_module": "@jupyter-widgets/controls",
            "_model_module_version": "1.5.0",
            "value": 1,
            "_view_count": null,
            "_view_module_version": "1.5.0",
            "orientation": "horizontal",
            "min": 0,
            "description_tooltip": null,
            "_model_module": "@jupyter-widgets/controls",
            "layout": "IPY_MODEL_8b4d5f1da4d846e590f4c417229b6b5d"
          }
        },
        "7811c48dab7042679597a8e65ede652a": {
          "model_module": "@jupyter-widgets/controls",
          "model_name": "HTMLModel",
          "state": {
            "_view_name": "HTMLView",
            "style": "IPY_MODEL_8aaf9c9ba3524dd3871f3923a0d23bd8",
            "_dom_classes": [],
            "description": "",
            "_model_name": "HTMLModel",
            "placeholder": "​",
            "_view_module": "@jupyter-widgets/controls",
            "_model_module_version": "1.5.0",
            "value": " 1654784/? [00:00&lt;00:00, 2198624.11it/s]",
            "_view_count": null,
            "_view_module_version": "1.5.0",
            "description_tooltip": null,
            "_model_module": "@jupyter-widgets/controls",
            "layout": "IPY_MODEL_9233e91cd1f84bedafe34d884b721cb1"
          }
        },
        "d8fed71b005744ee88d5860614584dcd": {
          "model_module": "@jupyter-widgets/controls",
          "model_name": "ProgressStyleModel",
          "state": {
            "_view_name": "StyleView",
            "_model_name": "ProgressStyleModel",
            "description_width": "initial",
            "_view_module": "@jupyter-widgets/base",
            "_model_module_version": "1.5.0",
            "_view_count": null,
            "_view_module_version": "1.2.0",
            "bar_color": null,
            "_model_module": "@jupyter-widgets/controls"
          }
        },
        "8b4d5f1da4d846e590f4c417229b6b5d": {
          "model_module": "@jupyter-widgets/base",
          "model_name": "LayoutModel",
          "state": {
            "_view_name": "LayoutView",
            "grid_template_rows": null,
            "right": null,
            "justify_content": null,
            "_view_module": "@jupyter-widgets/base",
            "overflow": null,
            "_model_module_version": "1.2.0",
            "_view_count": null,
            "flex_flow": null,
            "width": null,
            "min_width": null,
            "border": null,
            "align_items": null,
            "bottom": null,
            "_model_module": "@jupyter-widgets/base",
            "top": null,
            "grid_column": null,
            "overflow_y": null,
            "overflow_x": null,
            "grid_auto_flow": null,
            "grid_area": null,
            "grid_template_columns": null,
            "flex": null,
            "_model_name": "LayoutModel",
            "justify_items": null,
            "grid_row": null,
            "max_height": null,
            "align_content": null,
            "visibility": null,
            "align_self": null,
            "height": null,
            "min_height": null,
            "padding": null,
            "grid_auto_rows": null,
            "grid_gap": null,
            "max_width": null,
            "order": null,
            "_view_module_version": "1.2.0",
            "grid_template_areas": null,
            "object_position": null,
            "object_fit": null,
            "grid_auto_columns": null,
            "margin": null,
            "display": null,
            "left": null
          }
        },
        "8aaf9c9ba3524dd3871f3923a0d23bd8": {
          "model_module": "@jupyter-widgets/controls",
          "model_name": "DescriptionStyleModel",
          "state": {
            "_view_name": "StyleView",
            "_model_name": "DescriptionStyleModel",
            "description_width": "",
            "_view_module": "@jupyter-widgets/base",
            "_model_module_version": "1.5.0",
            "_view_count": null,
            "_view_module_version": "1.2.0",
            "_model_module": "@jupyter-widgets/controls"
          }
        },
        "9233e91cd1f84bedafe34d884b721cb1": {
          "model_module": "@jupyter-widgets/base",
          "model_name": "LayoutModel",
          "state": {
            "_view_name": "LayoutView",
            "grid_template_rows": null,
            "right": null,
            "justify_content": null,
            "_view_module": "@jupyter-widgets/base",
            "overflow": null,
            "_model_module_version": "1.2.0",
            "_view_count": null,
            "flex_flow": null,
            "width": null,
            "min_width": null,
            "border": null,
            "align_items": null,
            "bottom": null,
            "_model_module": "@jupyter-widgets/base",
            "top": null,
            "grid_column": null,
            "overflow_y": null,
            "overflow_x": null,
            "grid_auto_flow": null,
            "grid_area": null,
            "grid_template_columns": null,
            "flex": null,
            "_model_name": "LayoutModel",
            "justify_items": null,
            "grid_row": null,
            "max_height": null,
            "align_content": null,
            "visibility": null,
            "align_self": null,
            "height": null,
            "min_height": null,
            "padding": null,
            "grid_auto_rows": null,
            "grid_gap": null,
            "max_width": null,
            "order": null,
            "_view_module_version": "1.2.0",
            "grid_template_areas": null,
            "object_position": null,
            "object_fit": null,
            "grid_auto_columns": null,
            "margin": null,
            "display": null,
            "left": null
          }
        },
        "33613b743a124d34b6875105ee791731": {
          "model_module": "@jupyter-widgets/controls",
          "model_name": "HBoxModel",
          "state": {
            "_view_name": "HBoxView",
            "_dom_classes": [],
            "_model_name": "HBoxModel",
            "_view_module": "@jupyter-widgets/controls",
            "_model_module_version": "1.5.0",
            "_view_count": null,
            "_view_module_version": "1.5.0",
            "box_style": "",
            "layout": "IPY_MODEL_153f82c7ba9b4fd9917588da34bf4df4",
            "_model_module": "@jupyter-widgets/controls",
            "children": [
              "IPY_MODEL_225d05913c7b414cbf951a969c172629",
              "IPY_MODEL_5840a085dd5b4b2e85e423dfeb79c6b2"
            ]
          }
        },
        "153f82c7ba9b4fd9917588da34bf4df4": {
          "model_module": "@jupyter-widgets/base",
          "model_name": "LayoutModel",
          "state": {
            "_view_name": "LayoutView",
            "grid_template_rows": null,
            "right": null,
            "justify_content": null,
            "_view_module": "@jupyter-widgets/base",
            "overflow": null,
            "_model_module_version": "1.2.0",
            "_view_count": null,
            "flex_flow": null,
            "width": null,
            "min_width": null,
            "border": null,
            "align_items": null,
            "bottom": null,
            "_model_module": "@jupyter-widgets/base",
            "top": null,
            "grid_column": null,
            "overflow_y": null,
            "overflow_x": null,
            "grid_auto_flow": null,
            "grid_area": null,
            "grid_template_columns": null,
            "flex": null,
            "_model_name": "LayoutModel",
            "justify_items": null,
            "grid_row": null,
            "max_height": null,
            "align_content": null,
            "visibility": null,
            "align_self": null,
            "height": null,
            "min_height": null,
            "padding": null,
            "grid_auto_rows": null,
            "grid_gap": null,
            "max_width": null,
            "order": null,
            "_view_module_version": "1.2.0",
            "grid_template_areas": null,
            "object_position": null,
            "object_fit": null,
            "grid_auto_columns": null,
            "margin": null,
            "display": null,
            "left": null
          }
        },
        "225d05913c7b414cbf951a969c172629": {
          "model_module": "@jupyter-widgets/controls",
          "model_name": "FloatProgressModel",
          "state": {
            "_view_name": "ProgressView",
            "style": "IPY_MODEL_e8f3c3f3e5094ae18f536cf00256b80c",
            "_dom_classes": [],
            "description": "",
            "_model_name": "FloatProgressModel",
            "bar_style": "success",
            "max": 1,
            "_view_module": "@jupyter-widgets/controls",
            "_model_module_version": "1.5.0",
            "value": 1,
            "_view_count": null,
            "_view_module_version": "1.5.0",
            "orientation": "horizontal",
            "min": 0,
            "description_tooltip": null,
            "_model_module": "@jupyter-widgets/controls",
            "layout": "IPY_MODEL_69c8b8f204e04760a2476d34492276e7"
          }
        },
        "5840a085dd5b4b2e85e423dfeb79c6b2": {
          "model_module": "@jupyter-widgets/controls",
          "model_name": "HTMLModel",
          "state": {
            "_view_name": "HTMLView",
            "style": "IPY_MODEL_748d52bf8e7849d29f8fa780e2a9091d",
            "_dom_classes": [],
            "description": "",
            "_model_name": "HTMLModel",
            "placeholder": "​",
            "_view_module": "@jupyter-widgets/controls",
            "_model_module_version": "1.5.0",
            "value": " 8192/? [00:00&lt;00:00, 15342.96it/s]",
            "_view_count": null,
            "_view_module_version": "1.5.0",
            "description_tooltip": null,
            "_model_module": "@jupyter-widgets/controls",
            "layout": "IPY_MODEL_228f8cfaefcf4e419c194b78ac70e232"
          }
        },
        "e8f3c3f3e5094ae18f536cf00256b80c": {
          "model_module": "@jupyter-widgets/controls",
          "model_name": "ProgressStyleModel",
          "state": {
            "_view_name": "StyleView",
            "_model_name": "ProgressStyleModel",
            "description_width": "initial",
            "_view_module": "@jupyter-widgets/base",
            "_model_module_version": "1.5.0",
            "_view_count": null,
            "_view_module_version": "1.2.0",
            "bar_color": null,
            "_model_module": "@jupyter-widgets/controls"
          }
        },
        "69c8b8f204e04760a2476d34492276e7": {
          "model_module": "@jupyter-widgets/base",
          "model_name": "LayoutModel",
          "state": {
            "_view_name": "LayoutView",
            "grid_template_rows": null,
            "right": null,
            "justify_content": null,
            "_view_module": "@jupyter-widgets/base",
            "overflow": null,
            "_model_module_version": "1.2.0",
            "_view_count": null,
            "flex_flow": null,
            "width": null,
            "min_width": null,
            "border": null,
            "align_items": null,
            "bottom": null,
            "_model_module": "@jupyter-widgets/base",
            "top": null,
            "grid_column": null,
            "overflow_y": null,
            "overflow_x": null,
            "grid_auto_flow": null,
            "grid_area": null,
            "grid_template_columns": null,
            "flex": null,
            "_model_name": "LayoutModel",
            "justify_items": null,
            "grid_row": null,
            "max_height": null,
            "align_content": null,
            "visibility": null,
            "align_self": null,
            "height": null,
            "min_height": null,
            "padding": null,
            "grid_auto_rows": null,
            "grid_gap": null,
            "max_width": null,
            "order": null,
            "_view_module_version": "1.2.0",
            "grid_template_areas": null,
            "object_position": null,
            "object_fit": null,
            "grid_auto_columns": null,
            "margin": null,
            "display": null,
            "left": null
          }
        },
        "748d52bf8e7849d29f8fa780e2a9091d": {
          "model_module": "@jupyter-widgets/controls",
          "model_name": "DescriptionStyleModel",
          "state": {
            "_view_name": "StyleView",
            "_model_name": "DescriptionStyleModel",
            "description_width": "",
            "_view_module": "@jupyter-widgets/base",
            "_model_module_version": "1.5.0",
            "_view_count": null,
            "_view_module_version": "1.2.0",
            "_model_module": "@jupyter-widgets/controls"
          }
        },
        "228f8cfaefcf4e419c194b78ac70e232": {
          "model_module": "@jupyter-widgets/base",
          "model_name": "LayoutModel",
          "state": {
            "_view_name": "LayoutView",
            "grid_template_rows": null,
            "right": null,
            "justify_content": null,
            "_view_module": "@jupyter-widgets/base",
            "overflow": null,
            "_model_module_version": "1.2.0",
            "_view_count": null,
            "flex_flow": null,
            "width": null,
            "min_width": null,
            "border": null,
            "align_items": null,
            "bottom": null,
            "_model_module": "@jupyter-widgets/base",
            "top": null,
            "grid_column": null,
            "overflow_y": null,
            "overflow_x": null,
            "grid_auto_flow": null,
            "grid_area": null,
            "grid_template_columns": null,
            "flex": null,
            "_model_name": "LayoutModel",
            "justify_items": null,
            "grid_row": null,
            "max_height": null,
            "align_content": null,
            "visibility": null,
            "align_self": null,
            "height": null,
            "min_height": null,
            "padding": null,
            "grid_auto_rows": null,
            "grid_gap": null,
            "max_width": null,
            "order": null,
            "_view_module_version": "1.2.0",
            "grid_template_areas": null,
            "object_position": null,
            "object_fit": null,
            "grid_auto_columns": null,
            "margin": null,
            "display": null,
            "left": null
          }
        }
      }
    }
  },
  "cells": [
    {
      "cell_type": "markdown",
      "metadata": {
        "id": "view-in-github",
        "colab_type": "text"
      },
      "source": [
        "<a href=\"https://colab.research.google.com/github/YueunKim/Kriss_colab/blob/master/4_Modules.ipynb\" target=\"_parent\"><img src=\"https://colab.research.google.com/assets/colab-badge.svg\" alt=\"Open In Colab\"/></a>"
      ]
    },
    {
      "cell_type": "code",
      "metadata": {
        "id": "acUjJvHXJDGC",
        "colab": {
          "base_uri": "https://localhost:8080/"
        },
        "outputId": "97aa28eb-7de5-48ef-ca38-e6265d358341"
      },
      "source": [
        "#4, p.5\n",
        "import torch\n",
        "import torch.nn.functional as F\n",
        "\n",
        "x = torch.tensor([[0.8008, -0.2586, 0.5019, -0.2002, -0.7416],\n",
        "                  [0.0557, 0.6046, 0.0864, -0.5929, 1.2606]])\n",
        "print(x)\n",
        "\n",
        "y = F.relu(x)\n",
        "print(y)"
      ],
      "execution_count": 1,
      "outputs": [
        {
          "output_type": "stream",
          "text": [
            "tensor([[ 0.8008, -0.2586,  0.5019, -0.2002, -0.7416],\n",
            "        [ 0.0557,  0.6046,  0.0864, -0.5929,  1.2606]])\n",
            "tensor([[0.8008, 0.0000, 0.5019, 0.0000, 0.0000],\n",
            "        [0.0557, 0.6046, 0.0864, 0.0000, 1.2606]])\n"
          ],
          "name": "stdout"
        }
      ]
    },
    {
      "cell_type": "code",
      "metadata": {
        "id": "AvLukF-sJDGC",
        "colab": {
          "base_uri": "https://localhost:8080/"
        },
        "outputId": "485eac1f-0e2e-43e8-aa83-293cad91132c"
      },
      "source": [
        "#4, p.6\n",
        "import torch.nn as nn\n",
        "\n",
        "f = nn.Linear(in_features = 10, out_features = 4)\n",
        "\n",
        "for n, p in f.named_parameters():\n",
        "    print(n, p.size(), p)\n",
        "\n",
        "x = torch.empty(523, 10).normal_()\n",
        "y = f(x)\n",
        "y.size()"
      ],
      "execution_count": 2,
      "outputs": [
        {
          "output_type": "stream",
          "text": [
            "weight torch.Size([4, 10]) Parameter containing:\n",
            "tensor([[-3.0796e-01,  1.9768e-01,  1.5204e-01,  6.6153e-02, -1.1333e-01,\n",
            "          4.4732e-02, -2.0469e-01,  1.2794e-01, -2.2968e-01,  2.8051e-01],\n",
            "        [-2.5736e-01,  3.7788e-02,  1.4287e-01, -2.6320e-02, -1.8337e-01,\n",
            "         -1.7184e-01, -1.0434e-01, -2.4970e-01,  1.6474e-01,  4.4521e-02],\n",
            "        [ 2.8992e-01, -6.7197e-02,  1.5405e-01, -3.0987e-01,  3.0921e-01,\n",
            "         -1.9533e-03, -5.2338e-02,  2.3184e-05,  2.2182e-01,  8.6858e-02],\n",
            "        [-2.5390e-01, -1.9030e-01,  2.5247e-02, -8.5570e-02, -2.2343e-02,\n",
            "          1.6123e-01,  1.5535e-01, -2.0208e-01, -2.9071e-01,  1.4992e-01]],\n",
            "       requires_grad=True)\n",
            "bias torch.Size([4]) Parameter containing:\n",
            "tensor([ 0.1345,  0.0610, -0.2418,  0.2651], requires_grad=True)\n"
          ],
          "name": "stdout"
        },
        {
          "output_type": "execute_result",
          "data": {
            "text/plain": [
              "torch.Size([523, 4])"
            ]
          },
          "metadata": {
            "tags": []
          },
          "execution_count": 2
        }
      ]
    },
    {
      "cell_type": "code",
      "metadata": {
        "id": "TD2eljTaJDGD",
        "colab": {
          "base_uri": "https://localhost:8080/"
        },
        "outputId": "e7fff20e-1509-49d3-c5b1-dfefb4607bcb"
      },
      "source": [
        "#4. p.7\n",
        "f = torch.nn.MSELoss()\n",
        "x = torch.tensor([3., 0.]).requires_grad_()\n",
        "y = torch.tensor([0., 0.]).requires_grad_()\n",
        "l1 = f(x, y)\n",
        "print('MSELoss1: {}', l1)\n",
        "\n",
        "x = torch.tensor([2.])\n",
        "y = torch.tensor([0.])\n",
        "l2 = f(x, y)\n",
        "print('MSELoss2: {}', l2)\n",
        "\n",
        "x = torch.tensor([3., 0., 0., 0.])\n",
        "y = torch.tensor([0., 0., 0., 0.,])\n",
        "l3 = f(x, y)\n",
        "print('MSELoss3: {}', l3)"
      ],
      "execution_count": 3,
      "outputs": [
        {
          "output_type": "stream",
          "text": [
            "MSELoss1: {} tensor(4.5000, grad_fn=<MseLossBackward>)\n",
            "MSELoss2: {} tensor(4.)\n",
            "MSELoss3: {} tensor(2.2500)\n"
          ],
          "name": "stdout"
        }
      ]
    },
    {
      "cell_type": "code",
      "metadata": {
        "id": "yJV2PSKhJDGD",
        "colab": {
          "base_uri": "https://localhost:8080/"
        },
        "outputId": "789e8d52-463b-4e75-9d6b-c9c705fb706f"
      },
      "source": [
        "#4, p.10\n",
        "import torch\n",
        "import time\n",
        "def timing(x, w, batch = False, nb = 101):\n",
        "    t = torch.zeros(nb)\n",
        "    \n",
        "    for u in range(0, t.size(0)):\n",
        "        t0 = time.perf_counter()\n",
        "        if batch:\n",
        "            y = x.mm(w.t())\n",
        "        else:\n",
        "            y = torch.empty(x.size(0), w.size(0))\n",
        "            for k in range(y.size(0)):\n",
        "                y[k] = w.mv(x[k])\n",
        "        y.is_cuda and torch.cuda.synchronize()\n",
        "        t[u] = time.perf_counter() - t0\n",
        "    \n",
        "    return t.median().item()\n",
        "\n",
        "x = torch.empty(2500, 1000).normal_()\n",
        "w = torch.empty(1500, 1000).normal_()\n",
        "print('Batch-processing speed-up on CPU %.1f' % \n",
        "      (timing(x, w, batch = False)/timing(x, w, batch = True)))\n",
        "\n",
        "x = x.to('cuda')\n",
        "w = w.to('cuda')\n",
        "print('Batch-processing speed-up on GPU %.1f' % \n",
        "      (timing(x, w, batch = False)/timing(x, w, batch = True)))\n",
        "\n"
      ],
      "execution_count": 4,
      "outputs": [
        {
          "output_type": "stream",
          "text": [
            "Batch-processing speed-up on CPU 6.2\n",
            "Batch-processing speed-up on GPU 74.7\n"
          ],
          "name": "stdout"
        }
      ]
    },
    {
      "cell_type": "code",
      "metadata": {
        "id": "ZH-hGA9KJDGD"
      },
      "source": [
        "#4, p.12\n",
        "def linear(input, weight, bias=None):\n",
        "    if input.dim() == 2 and bias is not None:\n",
        "        #fused op is marginally faster\n",
        "        return torch.addmm(bias, input, weight.t())\n",
        "    \n",
        "    output = input.matmul(weight.t())\n",
        "    if bias is not None:\n",
        "        output += bias\n",
        "    return output\n"
      ],
      "execution_count": 5,
      "outputs": []
    },
    {
      "cell_type": "code",
      "metadata": {
        "id": "XWfnjN2FJDGD",
        "colab": {
          "base_uri": "https://localhost:8080/"
        },
        "outputId": "ec495f82-8792-447c-bf46-aca650d2e234"
      },
      "source": [
        "#4, p.44\n",
        "#calcucate output dimension in general convolution operations\n",
        "import torch.nn.functional as F\n",
        "\n",
        "weight = torch.empty(5, 4, 2, 3).normal_()\n",
        "bias = torch.empty(5).normal_()\n",
        "input = torch.empty(117, 4, 10, 3).normal_()\n",
        "output = F.conv2d(input, weight, bias)\n",
        "output.size()"
      ],
      "execution_count": 6,
      "outputs": [
        {
          "output_type": "execute_result",
          "data": {
            "text/plain": [
              "torch.Size([117, 5, 9, 1])"
            ]
          },
          "metadata": {
            "tags": []
          },
          "execution_count": 6
        }
      ]
    },
    {
      "cell_type": "code",
      "metadata": {
        "colab": {
          "base_uri": "https://localhost:8080/"
        },
        "id": "xK-UcVp6zb8d",
        "outputId": "f9436f6a-f237-463f-d124-b71d54e15347"
      },
      "source": [
        "#4, p.83\r\n",
        "#calculate difference of convolution operation between inputmap and outputmap when dilation is over 1\r\n",
        "import torch.nn as nn\r\n",
        "\r\n",
        "x = torch.empty(1, 1, 20, 30).normal_()\r\n",
        "l = nn.Conv2d(1, 1, kernel_size=3, dilation=4)\r\n",
        "l(x).size()"
      ],
      "execution_count": 7,
      "outputs": [
        {
          "output_type": "execute_result",
          "data": {
            "text/plain": [
              "torch.Size([1, 1, 12, 22])"
            ]
          },
          "metadata": {
            "tags": []
          },
          "execution_count": 7
        }
      ]
    },
    {
      "cell_type": "code",
      "metadata": {
        "colab": {
          "base_uri": "https://localhost:8080/",
          "height": 731,
          "referenced_widgets": [
            "ea3c603c4f8241a59587cdf8bfdeda86",
            "6a37b55fe4954dbaa5cff82a2ddcf2d2",
            "fd476366c3fa417da890b080e8bef248",
            "fb3bead2cac54f378af2f2474534577b",
            "baa06231aa52484da929af6ee0a02563",
            "bc296da19b334317b0707fd99d9c57df",
            "38b81987a2eb4a5292c851ebe1361fd3",
            "84539a3f34f840388295e6d5fd257258",
            "4f0bd6960f4e46f788d7f41901f920a1",
            "fd563959dbab497f90b260a5a882d954",
            "90d7ba8948ec46a0b63309fae243937e",
            "bfbf5014d6fd44a5a63da5a7112dd6f6",
            "b02ee9f068f746dbbc59aedb089d2dd8",
            "a40389f5fcff4db6819b64ce5f009858",
            "b4813522f32f436fa38253722b21260e",
            "d965aa380eb04a26a3aa02da3dddb365",
            "195c5c64151e4aa9acf828c132a2f230",
            "97bca26cc4644cfea3f7e103cdb5e7f8",
            "45305724ac27410db7b4bddfda74f42c",
            "7811c48dab7042679597a8e65ede652a",
            "d8fed71b005744ee88d5860614584dcd",
            "8b4d5f1da4d846e590f4c417229b6b5d",
            "8aaf9c9ba3524dd3871f3923a0d23bd8",
            "9233e91cd1f84bedafe34d884b721cb1",
            "33613b743a124d34b6875105ee791731",
            "153f82c7ba9b4fd9917588da34bf4df4",
            "225d05913c7b414cbf951a969c172629",
            "5840a085dd5b4b2e85e423dfeb79c6b2",
            "e8f3c3f3e5094ae18f536cf00256b80c",
            "69c8b8f204e04760a2476d34492276e7",
            "748d52bf8e7849d29f8fa780e2a9091d",
            "228f8cfaefcf4e419c194b78ac70e232"
          ]
        },
        "id": "CGNuyT0rJDGD",
        "outputId": "89163b4f-b387-483b-988d-7fb08b8eae14"
      },
      "source": [
        "#4, p.85\n",
        "# convolution with various filter\n",
        "import torch\n",
        "import torchvision\n",
        "from torchvision.utils import save_image\n",
        "from PIL import Image\n",
        "from matplotlib.pyplot import imshow\n",
        "import numpy as np\n",
        "from google.colab import drive\n",
        "import torch.nn.functional as F\n",
        "from torchvision.datasets import MNIST\n",
        "\n",
        "drive.mount('/content/gdrive')\n",
        "mnist_dataset = MNIST('/content/gdrive/My Drive/withCoLab/dataset/mnist/', train=True, download = True)\n",
        "#mnist_dataset = MNIST(download_root, transform=mnist_transform, train=True, download=True)\n",
        "\n",
        "x = mnist_dataset.data[12].float().view(1, 1, 28, 28)\n",
        "save_image(x, 'inputx.png')\n",
        "img = Image.open('inputx.png')\n",
        "imshow(np.asarray(img))\n",
        "\n",
        "weight = torch.empty(5, 1, 3, 3)\n",
        "weight[0, 0] = torch.tensor([ [ 0., 0., 0. ],\n",
        "[ 0., 1., 0. ],\n",
        "[ 0., 0., 0. ] ])\n",
        "\n",
        "weight[1, 0] = torch.tensor([ [ 1., 1., 1. ],\n",
        "[ 1., 1., 1. ],\n",
        "[ 1., 1., 1. ] ])\n",
        "weight[2, 0] = torch.tensor([ [ -1., 0., 1. ],\n",
        "[ -1., 0., 1. ],\n",
        "[ -1., 0., 1. ] ])\n",
        "weight[3, 0] = torch.tensor([ [ -1., -1., -1. ],\n",
        "[ 0., 0., 0. ],\n",
        "[ 1., 1., 1. ] ])\n",
        "weight[4, 0] = torch.tensor([ [ 0., -1., 0. ],\n",
        "[ -1., 4., -1. ],\n",
        "[ 0., -1., 0. ] ])\n",
        "\n",
        "y = F.conv2d(x, weight)\n",
        "y.size()"
      ],
      "execution_count": 8,
      "outputs": [
        {
          "output_type": "stream",
          "text": [
            "Mounted at /content/gdrive\n",
            "Downloading http://yann.lecun.com/exdb/mnist/train-images-idx3-ubyte.gz to /content/gdrive/My Drive/withCoLab/dataset/mnist/MNIST/raw/train-images-idx3-ubyte.gz\n"
          ],
          "name": "stdout"
        },
        {
          "output_type": "display_data",
          "data": {
            "application/vnd.jupyter.widget-view+json": {
              "model_id": "ea3c603c4f8241a59587cdf8bfdeda86",
              "version_minor": 0,
              "version_major": 2
            },
            "text/plain": [
              "HBox(children=(FloatProgress(value=1.0, bar_style='info', max=1.0), HTML(value='')))"
            ]
          },
          "metadata": {
            "tags": []
          }
        },
        {
          "output_type": "stream",
          "text": [
            "Extracting /content/gdrive/My Drive/withCoLab/dataset/mnist/MNIST/raw/train-images-idx3-ubyte.gz to /content/gdrive/My Drive/withCoLab/dataset/mnist/MNIST/raw\n",
            "Downloading http://yann.lecun.com/exdb/mnist/train-labels-idx1-ubyte.gz to /content/gdrive/My Drive/withCoLab/dataset/mnist/MNIST/raw/train-labels-idx1-ubyte.gz\n"
          ],
          "name": "stdout"
        },
        {
          "output_type": "display_data",
          "data": {
            "application/vnd.jupyter.widget-view+json": {
              "model_id": "4f0bd6960f4e46f788d7f41901f920a1",
              "version_minor": 0,
              "version_major": 2
            },
            "text/plain": [
              "HBox(children=(FloatProgress(value=1.0, bar_style='info', max=1.0), HTML(value='')))"
            ]
          },
          "metadata": {
            "tags": []
          }
        },
        {
          "output_type": "stream",
          "text": [
            "Extracting /content/gdrive/My Drive/withCoLab/dataset/mnist/MNIST/raw/train-labels-idx1-ubyte.gz to /content/gdrive/My Drive/withCoLab/dataset/mnist/MNIST/raw\n",
            "Downloading http://yann.lecun.com/exdb/mnist/t10k-images-idx3-ubyte.gz to /content/gdrive/My Drive/withCoLab/dataset/mnist/MNIST/raw/t10k-images-idx3-ubyte.gz\n"
          ],
          "name": "stdout"
        },
        {
          "output_type": "display_data",
          "data": {
            "application/vnd.jupyter.widget-view+json": {
              "model_id": "195c5c64151e4aa9acf828c132a2f230",
              "version_minor": 0,
              "version_major": 2
            },
            "text/plain": [
              "HBox(children=(FloatProgress(value=1.0, bar_style='info', max=1.0), HTML(value='')))"
            ]
          },
          "metadata": {
            "tags": []
          }
        },
        {
          "output_type": "stream",
          "text": [
            "Extracting /content/gdrive/My Drive/withCoLab/dataset/mnist/MNIST/raw/t10k-images-idx3-ubyte.gz to /content/gdrive/My Drive/withCoLab/dataset/mnist/MNIST/raw\n",
            "Downloading http://yann.lecun.com/exdb/mnist/t10k-labels-idx1-ubyte.gz to /content/gdrive/My Drive/withCoLab/dataset/mnist/MNIST/raw/t10k-labels-idx1-ubyte.gz\n",
            "\n",
            "\n"
          ],
          "name": "stdout"
        },
        {
          "output_type": "display_data",
          "data": {
            "application/vnd.jupyter.widget-view+json": {
              "model_id": "33613b743a124d34b6875105ee791731",
              "version_minor": 0,
              "version_major": 2
            },
            "text/plain": [
              "HBox(children=(FloatProgress(value=1.0, bar_style='info', max=1.0), HTML(value='')))"
            ]
          },
          "metadata": {
            "tags": []
          }
        },
        {
          "output_type": "stream",
          "text": [
            "Extracting /content/gdrive/My Drive/withCoLab/dataset/mnist/MNIST/raw/t10k-labels-idx1-ubyte.gz to /content/gdrive/My Drive/withCoLab/dataset/mnist/MNIST/raw\n",
            "Processing...\n"
          ],
          "name": "stdout"
        },
        {
          "output_type": "stream",
          "text": [
            "/usr/local/lib/python3.6/dist-packages/torchvision/datasets/mnist.py:480: UserWarning: The given NumPy array is not writeable, and PyTorch does not support non-writeable tensors. This means you can write to the underlying (supposedly non-writeable) NumPy array using the tensor. You may want to copy the array to protect its data or make it writeable before converting it to a tensor. This type of warning will be suppressed for the rest of this program. (Triggered internally at  /pytorch/torch/csrc/utils/tensor_numpy.cpp:141.)\n",
            "  return torch.from_numpy(parsed.astype(m[2], copy=False)).view(*s)\n"
          ],
          "name": "stderr"
        },
        {
          "output_type": "stream",
          "text": [
            "Done!\n"
          ],
          "name": "stdout"
        },
        {
          "output_type": "execute_result",
          "data": {
            "text/plain": [
              "torch.Size([1, 5, 26, 26])"
            ]
          },
          "metadata": {
            "tags": []
          },
          "execution_count": 8
        },
        {
          "output_type": "stream",
          "text": [
            "\n",
            "\n"
          ],
          "name": "stdout"
        },
        {
          "output_type": "display_data",
          "data": {
            "image/png": "[encoded data removed]",
            "text/plain": [
              "<Figure size 432x288 with 1 Axes>"
            ]
          },
          "metadata": {
            "tags": [],
            "needs_background": "light"
          }
        }
      ]
    },
    {
      "cell_type": "code",
      "metadata": {
        "id": "9l_HJ7FYJDGD",
        "colab": {
          "base_uri": "https://localhost:8080/",
          "height": 288
        },
        "outputId": "ab615f27-b3b3-4d87-cd73-aa3bad3ffaaf"
      },
      "source": [
        "save_image(weight[0,0], 'weight0.png')\n",
        "w0img = Image.open('weight0.png')\n",
        "imshow(np.asarray(w0img))"
      ],
      "execution_count": 9,
      "outputs": [
        {
          "output_type": "execute_result",
          "data": {
            "text/plain": [
              "<matplotlib.image.AxesImage at 0x7f69d81d8048>"
            ]
          },
          "metadata": {
            "tags": []
          },
          "execution_count": 9
        },
        {
          "output_type": "display_data",
          "data": {
            "image/png": "[encoded data removed]",
            "text/plain": [
              "<Figure size 432x288 with 1 Axes>"
            ]
          },
          "metadata": {
            "tags": [],
            "needs_background": "light"
          }
        }
      ]
    },
    {
      "cell_type": "code",
      "metadata": {
        "id": "gHb7V2yoJDGD",
        "colab": {
          "base_uri": "https://localhost:8080/",
          "height": 284
        },
        "outputId": "40000c9a-55cc-4c71-c493-bb40b39d6676"
      },
      "source": [
        "save_image(y[0,0,:,:], 'y0.png')\n",
        "y0img = Image.open('y0.png')\n",
        "imshow(np.asarray(y0img))"
      ],
      "execution_count": 10,
      "outputs": [
        {
          "output_type": "execute_result",
          "data": {
            "text/plain": [
              "<matplotlib.image.AxesImage at 0x7f69d81317b8>"
            ]
          },
          "metadata": {
            "tags": []
          },
          "execution_count": 10
        },
        {
          "output_type": "display_data",
          "data": {
            "image/png": "[encoded data removed]",
            "text/plain": [
              "<Figure size 432x288 with 1 Axes>"
            ]
          },
          "metadata": {
            "tags": [],
            "needs_background": "light"
          }
        }
      ]
    },
    {
      "cell_type": "code",
      "metadata": {
        "id": "K_VGMxePJDGE",
        "colab": {
          "base_uri": "https://localhost:8080/",
          "height": 284
        },
        "outputId": "b619251a-c703-4121-ff01-2a82855aac58"
      },
      "source": [
        "save_image(y[0,1,:,:], 'y1.png')\n",
        "y1img = Image.open('y1.png')\n",
        "imshow(np.asarray(y1img))"
      ],
      "execution_count": 11,
      "outputs": [
        {
          "output_type": "execute_result",
          "data": {
            "text/plain": [
              "<matplotlib.image.AxesImage at 0x7f69d815aef0>"
            ]
          },
          "metadata": {
            "tags": []
          },
          "execution_count": 11
        },
        {
          "output_type": "display_data",
          "data": {
            "image/png": "[encoded data removed]",
            "text/plain": [
              "<Figure size 432x288 with 1 Axes>"
            ]
          },
          "metadata": {
            "tags": [],
            "needs_background": "light"
          }
        }
      ]
    },
    {
      "cell_type": "code",
      "metadata": {
        "id": "dswCbZj_JDGE",
        "colab": {
          "base_uri": "https://localhost:8080/",
          "height": 284
        },
        "outputId": "c4d219ce-89e8-4b24-ca42-b826085359cf"
      },
      "source": [
        "save_image(y[0,2,:,:], 'y2.png')\n",
        "y2img = Image.open('y2.png')\n",
        "imshow(np.asarray(y2img))"
      ],
      "execution_count": 12,
      "outputs": [
        {
          "output_type": "execute_result",
          "data": {
            "text/plain": [
              "<matplotlib.image.AxesImage at 0x7f69d80f3c88>"
            ]
          },
          "metadata": {
            "tags": []
          },
          "execution_count": 12
        },
        {
          "output_type": "display_data",
          "data": {
            "image/png": "[encoded data removed]",
            "text/plain": [
              "<Figure size 432x288 with 1 Axes>"
            ]
          },
          "metadata": {
            "tags": [],
            "needs_background": "light"
          }
        }
      ]
    },
    {
      "cell_type": "code",
      "metadata": {
        "id": "s7oXPK2kJDGE",
        "colab": {
          "base_uri": "https://localhost:8080/",
          "height": 284
        },
        "outputId": "b7af0a27-4b4a-4723-a5d0-dc713eb7f496"
      },
      "source": [
        "save_image(y[0,3,:,:], 'y3.png')\n",
        "y3img = Image.open('y3.png')\n",
        "imshow(np.asarray(y3img))"
      ],
      "execution_count": 13,
      "outputs": [
        {
          "output_type": "execute_result",
          "data": {
            "text/plain": [
              "<matplotlib.image.AxesImage at 0x7f69d80e2dd8>"
            ]
          },
          "metadata": {
            "tags": []
          },
          "execution_count": 13
        },
        {
          "output_type": "display_data",
          "data": {
            "image/png": "[encoded data removed]",
            "text/plain": [
              "<Figure size 432x288 with 1 Axes>"
            ]
          },
          "metadata": {
            "tags": [],
            "needs_background": "light"
          }
        }
      ]
    },
    {
      "cell_type": "code",
      "metadata": {
        "id": "siwrbbDWJDGE",
        "colab": {
          "base_uri": "https://localhost:8080/",
          "height": 284
        },
        "outputId": "e2a64d15-8883-4c4a-8794-e4c87bb041a0"
      },
      "source": [
        "save_image(y[0,4,:,:], 'y4.png')\n",
        "y4img = Image.open('y4.png')\n",
        "imshow(np.asarray(y4img))"
      ],
      "execution_count": 14,
      "outputs": [
        {
          "output_type": "execute_result",
          "data": {
            "text/plain": [
              "<matplotlib.image.AxesImage at 0x7f69d8043f28>"
            ]
          },
          "metadata": {
            "tags": []
          },
          "execution_count": 14
        },
        {
          "output_type": "display_data",
          "data": {
            "image/png": "[encoded data removed]",
            "text/plain": [
              "<Figure size 432x288 with 1 Axes>"
            ]
          },
          "metadata": {
            "tags": [],
            "needs_background": "light"
          }
        }
      ]
    },
    {
      "cell_type": "code",
      "metadata": {
        "id": "6ln-zoM2JDGE",
        "colab": {
          "base_uri": "https://localhost:8080/"
        },
        "outputId": "bb3729d9-f95e-4c41-b3f2-81ef337eb8d6"
      },
      "source": [
        "import torch.nn as nn\n",
        "f = nn.Conv2d(in_channels=4, out_channels=5, kernel_size=3)\n",
        "for n, p in f.named_parameters():\n",
        "    print(n, p.size())"
      ],
      "execution_count": 15,
      "outputs": [
        {
          "output_type": "stream",
          "text": [
            "weight torch.Size([5, 4, 3, 3])\n",
            "bias torch.Size([5])\n"
          ],
          "name": "stdout"
        }
      ]
    },
    {
      "cell_type": "code",
      "metadata": {
        "id": "-enyAMIIJDGE",
        "colab": {
          "base_uri": "https://localhost:8080/"
        },
        "outputId": "ef722fbc-0c3d-4d21-c301-8a8ed5b42bb3"
      },
      "source": [
        "x = torch.empty(117, 4, 10, 3).normal_()\n",
        "y = f(x)\n",
        "y.size()"
      ],
      "execution_count": 16,
      "outputs": [
        {
          "output_type": "execute_result",
          "data": {
            "text/plain": [
              "torch.Size([117, 5, 8, 1])"
            ]
          },
          "metadata": {
            "tags": []
          },
          "execution_count": 16
        }
      ]
    },
    {
      "cell_type": "code",
      "metadata": {
        "id": "A4t1xXgnJDGE",
        "colab": {
          "base_uri": "https://localhost:8080/"
        },
        "outputId": "af32de48-8552-4e88-b73a-02a7566e77d4"
      },
      "source": [
        "x = torch.empty(1, 1, 20, 30).normal_()\n",
        "l = nn.Conv2d(1, 1, kernel_size=3, dilation=4)\n",
        "l(x).size()"
      ],
      "execution_count": 17,
      "outputs": [
        {
          "output_type": "execute_result",
          "data": {
            "text/plain": [
              "torch.Size([1, 1, 12, 22])"
            ]
          },
          "metadata": {
            "tags": []
          },
          "execution_count": 17
        }
      ]
    },
    {
      "cell_type": "code",
      "metadata": {
        "colab": {
          "base_uri": "https://localhost:8080/"
        },
        "id": "bxMfVSvWJDGF",
        "outputId": "2c3a8010-b80c-4051-8739-b64682e1506c"
      },
      "source": [
        "#from torchvision.datasets import MNIST\n",
        "\n",
        "#mnist = MNIST('./data/mnist/', train=True, download=True)\n",
        "d = mnist_dataset.data\n",
        "d.size()"
      ],
      "execution_count": 18,
      "outputs": [
        {
          "output_type": "execute_result",
          "data": {
            "text/plain": [
              "torch.Size([60000, 28, 28])"
            ]
          },
          "metadata": {
            "tags": []
          },
          "execution_count": 18
        }
      ]
    },
    {
      "cell_type": "code",
      "metadata": {
        "id": "SGK90F4qJDGF",
        "colab": {
          "base_uri": "https://localhost:8080/"
        },
        "outputId": "a5fc0fc5-57e0-4753-aafc-194762676693"
      },
      "source": [
        "x = d.view(d.size(0), 1, d.size(1), d.size(2))\n",
        "x.size()"
      ],
      "execution_count": 19,
      "outputs": [
        {
          "output_type": "execute_result",
          "data": {
            "text/plain": [
              "torch.Size([60000, 1, 28, 28])"
            ]
          },
          "metadata": {
            "tags": []
          },
          "execution_count": 19
        }
      ]
    },
    {
      "cell_type": "code",
      "metadata": {
        "id": "Ok-EGj_eJDGF",
        "colab": {
          "base_uri": "https://localhost:8080/"
        },
        "outputId": "82536081-508f-429c-84a4-8f1eb3632a2c"
      },
      "source": [
        "x = x.view(x.size(0), -1)\n",
        "x.size()"
      ],
      "execution_count": 20,
      "outputs": [
        {
          "output_type": "execute_result",
          "data": {
            "text/plain": [
              "torch.Size([60000, 784])"
            ]
          },
          "metadata": {
            "tags": []
          },
          "execution_count": 20
        }
      ]
    },
    {
      "cell_type": "code",
      "metadata": {
        "id": "UjlDeh3dJDGF"
      },
      "source": [
        "#4, p.99\n",
        "#create module~\n",
        "import torch \n",
        "import torch.nn as nn\n",
        "import torch.nn.functional as F\n",
        "\n",
        "class Net(nn.Module):\n",
        "    def __init__(self):\n",
        "        super(Net, self).__init__()\n",
        "        self.conv1 = nn.Conv2d(1, 32, kernel_size=5)\n",
        "        self.conv2 = nn.Conv2d(32, 64, kernel_size=5)\n",
        "        self.fc1 = nn.Linear(256, 200)\n",
        "        self.fc2 = nn.Linear(200, 10)\n",
        "        \n",
        "    def forward(self, x):\n",
        "        x = F.relu(F.max_pool2d(self.conv1(x), kernel_size=3, stride=3))\n",
        "        x = F.relu(F.max_pool2d(self.conv2(x), kernel_size=2, stride=2))\n",
        "        x = x.view(-1, 256)\n",
        "        x = F.relu(self.fc1(x))\n",
        "        x = self.fc2(x)\n",
        "        return x"
      ],
      "execution_count": 21,
      "outputs": []
    },
    {
      "cell_type": "code",
      "metadata": {
        "id": "SfeFXI1PJDGF",
        "colab": {
          "base_uri": "https://localhost:8080/"
        },
        "outputId": "abf99417-6e72-419d-af73-24cbf4c91c73"
      },
      "source": [
        "model = Net()\n",
        "input = torch.empty(12, 1, 28, 28).normal_()\n",
        "output = model(input)\n",
        "print(output.size())"
      ],
      "execution_count": 22,
      "outputs": [
        {
          "output_type": "stream",
          "text": [
            "torch.Size([12, 10])\n"
          ],
          "name": "stdout"
        }
      ]
    },
    {
      "cell_type": "code",
      "metadata": {
        "id": "HjljjGNOJDGF",
        "colab": {
          "base_uri": "https://localhost:8080/"
        },
        "outputId": "56ceb6c4-eb8d-4958-a17d-bad9070526a8"
      },
      "source": [
        "for k in model.parameters():\n",
        "    print(k.size())"
      ],
      "execution_count": 23,
      "outputs": [
        {
          "output_type": "stream",
          "text": [
            "torch.Size([32, 1, 5, 5])\n",
            "torch.Size([32])\n",
            "torch.Size([64, 32, 5, 5])\n",
            "torch.Size([64])\n",
            "torch.Size([200, 256])\n",
            "torch.Size([200])\n",
            "torch.Size([10, 200])\n",
            "torch.Size([10])\n"
          ],
          "name": "stdout"
        }
      ]
    },
    {
      "cell_type": "code",
      "metadata": {
        "id": "0G0M9bK9JDGF",
        "colab": {
          "base_uri": "https://localhost:8080/"
        },
        "outputId": "20155093-6684-4cf7-f0dd-00e25e2614b9"
      },
      "source": [
        "#4, p.102\r\n",
        "# parameter~\r\n",
        "from torch.nn.parameter import Parameter\r\n",
        "\r\n",
        "class Buggy(nn.Module):\r\n",
        "  def __init__(self):\r\n",
        "    super(Buggy, self).__init__()\r\n",
        "    self.conv = nn.Conv2d(1, 32, kernel_size=5)\r\n",
        "    self.param = Parameter(torch.zeros(123, 456))\r\n",
        "    self.other_stuff = [nn.Linear(543, 21)]\r\n",
        "\r\n",
        "\r\n",
        "model = Buggy()\r\n",
        "\r\n",
        "for k in model.parameters():\r\n",
        "  print(k.size())"
      ],
      "execution_count": 24,
      "outputs": [
        {
          "output_type": "stream",
          "text": [
            "torch.Size([123, 456])\n",
            "torch.Size([32, 1, 5, 5])\n",
            "torch.Size([32])\n"
          ],
          "name": "stdout"
        }
      ]
    },
    {
      "cell_type": "code",
      "metadata": {
        "colab": {
          "base_uri": "https://localhost:8080/"
        },
        "id": "1LUoGueAhG2V",
        "outputId": "f795ead1-364d-43f4-d4d8-11e2081a0a4a"
      },
      "source": [
        "#4, p.103\r\n",
        "# parameter ~\r\n",
        "class AnotherNotBuggy(nn.Module):\r\n",
        "  def __init__(self):\r\n",
        "    super(AnotherNotBuggy, self).__init__()\r\n",
        "    self.conv = nn.Conv2d(1, 32, kernel_size=5)\r\n",
        "    self.param = Parameter(torch.zeros(123, 456))\r\n",
        "    self.other_stuff = nn.ModuleList()\r\n",
        "    self.other_stuff.append(nn.Linear(543, 21))\r\n",
        "\r\n",
        "model = AnotherNotBuggy()\r\n",
        "\r\n",
        "for k in model.parameters():\r\n",
        "  print(k.size())"
      ],
      "execution_count": 25,
      "outputs": [
        {
          "output_type": "stream",
          "text": [
            "torch.Size([123, 456])\n",
            "torch.Size([32, 1, 5, 5])\n",
            "torch.Size([32])\n",
            "torch.Size([21, 543])\n",
            "torch.Size([21])\n"
          ],
          "name": "stdout"
        }
      ]
    },
    {
      "cell_type": "code",
      "metadata": {
        "id": "d-ZGi0-YiVv2",
        "colab": {
          "base_uri": "https://localhost:8080/"
        },
        "outputId": "96b3c68c-8941-4679-e347-ea83f05290f9"
      },
      "source": [
        " import torch\r\n",
        " from torch import nn\r\n",
        " input = torch.randn(1, 64, 10, 9)\r\n",
        " m = nn.AdaptiveAvgPool2d((7, 7))\r\n",
        " output = m(input)\r\n",
        " output.size()"
      ],
      "execution_count": 26,
      "outputs": [
        {
          "output_type": "execute_result",
          "data": {
            "text/plain": [
              "torch.Size([1, 64, 7, 7])"
            ]
          },
          "metadata": {
            "tags": []
          },
          "execution_count": 26
        }
      ]
    },
    {
      "cell_type": "code",
      "metadata": {
        "id": "SpDA0DzPdYnB"
      },
      "source": [
        ""
      ],
      "execution_count": 26,
      "outputs": []
    }
  ]
}